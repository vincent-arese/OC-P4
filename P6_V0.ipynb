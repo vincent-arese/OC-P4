{
  "nbformat": 4,
  "nbformat_minor": 0,
  "metadata": {
    "colab": {
      "name": "P6-V0.ipynb",
      "provenance": [],
      "toc_visible": true,
      "collapsed_sections": [
        "N5wBe75QkWMl",
        "lqvn1P4nkeub",
        "99P3bdUgkwxz",
        "xtiMnuY9lNO-",
        "yEr7mcvUpNEg",
        "M8nJKvm997cJ",
        "CeRXBSMjl_o8",
        "R1uh5_f5mIWb",
        "SXHiYkA9elbG",
        "MmdpvopzvPyd",
        "yqUa4UUdmgWa",
        "IWAaJeqpoVeN",
        "Vz0FVvnI-ODS",
        "wniVx7NDntuB",
        "2MBrf4AlnGhK",
        "gOrc2k05nTH5",
        "uOiZ4HjinZvi",
        "JnX8FACIn5ZS",
        "8TF_ApSU8YrP",
        "xPhqzlgqowQ4",
        "rXQklXV_n-g6"
      ],
      "authorship_tag": "ABX9TyOe464whHpA9BuXGnI9yo9R",
      "include_colab_link": true
    },
    "kernelspec": {
      "name": "python3",
      "display_name": "Python 3"
    },
    "language_info": {
      "name": "python"
    }
  },
  "cells": [
    {
      "cell_type": "markdown",
      "metadata": {
        "id": "view-in-github",
        "colab_type": "text"
      },
      "source": [
        "<a href=\"https://colab.research.google.com/github/vincent-arese/OC-P6/blob/main/P6_V0.ipynb\" target=\"_parent\"><img src=\"https://colab.research.google.com/assets/colab-badge.svg\" alt=\"Open In Colab\"/></a>"
      ]
    },
    {
      "cell_type": "markdown",
      "metadata": {
        "id": "N5wBe75QkWMl"
      },
      "source": [
        "# <font color=\"00CED1\">  Config Env de travail </font>   <a id=\"EnvTravail\"></a>"
      ]
    },
    {
      "cell_type": "markdown",
      "metadata": {
        "id": "lqvn1P4nkeub"
      },
      "source": [
        "### pip install"
      ]
    },
    {
      "cell_type": "code",
      "execution_count": null,
      "metadata": {
        "id": "R74s9z-_kbOD",
        "colab": {
          "base_uri": "https://localhost:8080/"
        },
        "outputId": "07feeed5-48b4-4bbf-f56e-32ea0fba325b"
      },
      "outputs": [
        {
          "output_type": "stream",
          "name": "stdout",
          "text": [
            "Python 3.7.13\n",
            "There are 2 choices for the alternative python3 (providing /usr/bin/python3).\n",
            "\n",
            "  Selection    Path                Priority   Status\n",
            "------------------------------------------------------------\n",
            "* 0            /usr/bin/python3.7   2         auto mode\n",
            "  1            /usr/bin/python3.6   1         manual mode\n",
            "  2            /usr/bin/python3.7   2         manual mode\n",
            "\n",
            "Press <enter> to keep the current choice[*], or type selection number: 3.10\n",
            "There are 2 choices for the alternative python3 (providing /usr/bin/python3).\n",
            "\n",
            "  Selection    Path                Priority   Status\n",
            "------------------------------------------------------------\n",
            "* 0            /usr/bin/python3.7   2         auto mode\n",
            "  1            /usr/bin/python3.6   1         manual mode\n",
            "  2            /usr/bin/python3.7   2         manual mode\n",
            "\n",
            "Press <enter> to keep the current choice[*], or type selection number: ^C\n",
            "Python 3.7.13\n"
          ]
        }
      ],
      "source": [
        "# Prepa Env PIP\n",
        "# librairie pour combiner Pyhton & SQL https://towardsdatascience.com/fugue-and-duckdb-fast-sql-code-in-python-e2e2dfc0f8eb\n",
        "#!pip install -U fugue[duckdb,sql] \n",
        "# !pip install pandas-bokeh\n",
        "\n",
        "#  TO DEL    !pip install -U dash \n",
        "\n",
        "# !python --version  # checks version from command line\n",
        "# !sudo apt-get update -y\n",
        "# !sudo apt-get upgrade -y\n",
        "\n",
        "# ! pip list -v\n",
        "# ! pip list -v | grep [Pp]an \n",
        "# ! pip list -v | grep [Pp]lot\n",
        "# ! pip list -v | grep [Ss]ea\n",
        "# ! pip list -v | grep [Bb]l\n",
        "# ! pip list -v | grep [Aa]ut\n",
        "# ! pip install --upgrade pandas\n",
        "\n",
        "# !sudo update-alternatives --config python3\n",
        "# #after running, enter the row number of the python version you want.\n",
        "# !python --version  # checks version from command line"
      ]
    },
    {
      "cell_type": "markdown",
      "metadata": {
        "id": "99P3bdUgkwxz"
      },
      "source": [
        "### Librairies"
      ]
    },
    {
      "cell_type": "code",
      "execution_count": null,
      "metadata": {
        "id": "EtW9d-qjkHZX",
        "colab": {
          "base_uri": "https://localhost:8080/"
        },
        "outputId": "984d03c9-21ef-4e18-a24f-d917d786166d"
      },
      "outputs": [
        {
          "output_type": "stream",
          "name": "stdout",
          "text": [
            "\u001b[92mFile Saved Successfully!\u001b[0m\n",
            "\u001b[93mWarning: Are you sure you want to continue?\u001b[0m\n",
            "\u001b[91mUnable to delete record.\u001b[0m\n",
            "\u001b[92mFile Saved Successfully!\u001b[0m\n",
            "\u001b[93mWarning: Are you sure you want to continue?\u001b[0m\n",
            "\u001b[91mUnable to delete record.\u001b[0m\n"
          ]
        }
      ],
      "source": [
        "# librairies Pythons \n",
        "import numpy as np\n",
        "import pandas as pd\n",
        "from pandas.core.groupby.generic import DataFrameGroupBy\n",
        "pd.set_option('display.max_columns',None)  #pd.set_option('max_columns', 10) limiter le nbr de colonnes visualisé à 10 /none (=> scrollbar)\n",
        "pd.set_option('display.max_rows', 40)\n",
        "import matplotlib.pyplot as plt\n",
        "import seaborn as sns\n",
        "import plotly.express as px\n",
        "import plotly.graph_objects as go\n",
        "# import pandas_bokeh\n",
        "#import fugue_duckdb\n",
        "#from fugue_notebook import setup ;setup()\n",
        "\n",
        "#_____________________________________________________________________________\n",
        "# Python print Color\n",
        "class pcolors:\n",
        "    OK = '\\033[92m' #GREEN\n",
        "    WARNING = '\\033[93m' #YELLOW\n",
        "    FAIL = '\\033[91m' #RED\n",
        "    RESET = '\\033[0m' #RESET COLOR\n",
        "\n",
        "#Source : https://www.delftstack.com/fr/howto/python/python-print-colored-text/\n",
        "\n",
        "#Exemple \n",
        "print(pcolors.OK + \"File Saved Successfully!\" + pcolors.RESET)\n",
        "print(pcolors.WARNING + \"Warning: Are you sure you want to continue?\" + pcolors.RESET)\n",
        "print(pcolors.FAIL + \"Unable to delete record.\" + pcolors.RESET)\n",
        "\n",
        "print(f\"{pcolors.OK}File Saved Successfully!{pcolors.RESET}\")\n",
        "print(f\"{pcolors.WARNING}Warning: Are you sure you want to continue?{pcolors.RESET}\")\n",
        "print(f\"{pcolors.FAIL}Unable to delete record.{pcolors.RESET}\")\n",
        "#-----------------------------------------------------\n",
        "\n",
        "\n",
        "#  Importer les données en Pandas dataframe\n",
        "#aideDataPATH='/content/drive/MyDrive/DataSc/P4VA/'\n",
        "DataPATH='https://raw.githubusercontent.com/vincent-arese/OC-P04VA/main/FAOdata/'"
      ]
    },
    {
      "cell_type": "markdown",
      "metadata": {
        "id": "VT3tToYclGob"
      },
      "source": [
        "## Fonctions Perso"
      ]
    },
    {
      "cell_type": "markdown",
      "metadata": {
        "id": "xtiMnuY9lNO-"
      },
      "source": [
        "#### <font color=\"red\"> Cellules de bloc-notes template </font>"
      ]
    },
    {
      "cell_type": "markdown",
      "metadata": {
        "id": "4DWFkD4-lRVr"
      },
      "source": [
        "\n",
        "* https://pandas.pydata.org/Pandas_Cheat_Sheet.pdf\n",
        "\n",
        "* https://colab.research.google.com/drive/1-mfcGT9FvROM6pOL2_uNtx4ywrf6IlBn#scrollTo=icxtjOVUqN7F\n",
        "\n",
        "* https://html-color-codes.info/Codes-couleur-HTML/\n",
        "\n",
        "* https://docs.bokeh.org/en/latest/docs/gallery.html\n"
      ]
    },
    {
      "cell_type": "code",
      "execution_count": null,
      "metadata": {
        "id": "5oxbSSfYl0Zj"
      },
      "outputs": [],
      "source": [
        "#########################################################################\n",
        "# DEBUG & Search !      Version 1.1                                     #\n",
        "#########################################################################\n",
        "# dt=BilanAlim\n",
        "col=['index']\n",
        "\n",
        "# dt.info()\n",
        "# dt.describe(include='all')\n",
        "# dt.describe(include='category')\n",
        "\n",
        "#~~Search NaN ~~~~~~~~~~~~~~~~~~~~~~~~~~~~~~~~~~~~~~~~~~~~\n",
        "# SearchNaN(dt,1)\n",
        "# dt.isnull().sum().sum()  # Is nul total df \n",
        "# SearchNaN(dt,2)\n",
        "# SearchNaN(dt,2).CodeZone.sort_values(na_position='first').unique()\n",
        "# len(SearchNaN(dt,2).CodeZone.sort_values(na_position='first').unique())\n",
        "# SearchNaN(dt,2).Zone.sort_values(na_position='first').unique()\n",
        "# SearchNaN(dt,2).Année.sort_values(na_position='first').unique()\n",
        "\n",
        "# dt.replace([np.inf, -np.inf], np.nan, inplace=True) # Remplacer les infini par des NaN (division ! )\n",
        "\n",
        "#~~Search values ~~~~~~~~~~~~~~~~~~~~~~~~~~~~~~~~~~~~~~~~~~~~\n",
        "# SearchListe(dt,[0])\n",
        "# SearchListe(dt,[0,np.nan,np.inf,-np.inf])\n",
        "# SearchListe(dt,[ 1, 249, 250, 273, 276, 351])\n",
        "# SearchListe(dt,[0]).CodeZone\n",
        "# dt.CodeZone.sort_values(ascending=True,na_position='first').unique()\n",
        "# dt.iloc[:,12].sort_values(ascending=True,na_position='first').unique()\n",
        "#  dt.iloc[:,2].unique()\n",
        "# dt.iloc[:,3:19]\n",
        "# dt.AlphaISO3.sort_values(ascending=True,na_position='first').unique()\n",
        "# len(dt.AlphaISO3.sort_values(ascending=True,na_position='first'))\n",
        "\n",
        "\n",
        "\n",
        "#__Liste valeur unique dans chaque colonne du df  _____________\n",
        "# for col in ListeCol: \n",
        "#   # print(col,':',len(dt[col].unique()),': \\n',dt[col].sort_values(ascending=True,na_position='first').unique(),'\\n______________\\n')\n",
        "#   print(col,':',len(dt[col].unique()),': \\n',dt[col].unique(),'\\n______________\\n') #Unsorted\n",
        "#-----------\n",
        "\n",
        "#~~ Différences liste ou df ~~~~~~~~~~~~~~~~~~~~~~~~~~~~~~~~~~~~~~~~~~~~\n",
        "# LostElement(A_array,B_array)\n",
        "# get_different_rows(source_df, new_df)\n",
        "# ListeColUnique(dt)\n",
        "\n",
        "\n",
        "#~~ Différences liste ou df ~~~~~~~~~~~~~~~~~~~~~~~~~~~~~~~~~~~~~~~~~~~~\n",
        "# df=dt\n",
        "# regex=\"^[Tt]h.*\"\n",
        "# df[df.Zone.str.contains(regex)]\n",
        "#-----------\n",
        "\n",
        "\n",
        "#~~ Dtype ~~~~~~~~~~~~~~~~~~~~~~~~~~~~~~~~~~~~~~~~~~~~\n",
        "# 0.  # dtype Category => object (str)\n",
        "# reduce_mem_usage(dt) # Optisation dtype\n",
        "#__iloc dtype change ____________________\n",
        "# for i in range(2,5):\n",
        "#   dt.iloc[:,i]=dt.iloc[:,i].astype(float)\n",
        "#-----------\n",
        "\n",
        "#------ test Erreur dtype trop Petit: \n",
        "\n",
        "# print('Min',dt[col].min(),'Moy',dt[col].mean(),'Max',dt[col].max(),'Sum',dt[col].sum())  \n",
        "\n",
        "\n",
        "# dt.info()\n",
        "\n",
        "##### Df List\n",
        "# SecuAlimGeo\n",
        "\n",
        "##################### Aide memoire ##################\n",
        "# [i for i in range(2,12)]\n",
        "\n",
        "# dt.iloc[:, [2,3,12,14,15]]\n",
        "# dt.iloc[:,[i for i in range(18)]],2)\n",
        "\n",
        "# ColMove(df,ColName,ColIndex)\n",
        "# df= df.iloc[:,[0,1,2,3,7,12,16]]\n",
        "# o\n",
        "####################################################\n",
        "\n",
        "\n",
        "# print(BilanAlimGeo.Semences.max(),BilanAlimGeo.Semences.mean(), BilanAlimGeo.Semences.min(),BilanAlimGeo.Semences.sum(),BilanAlimGeo.Semences.count())\n",
        "# !cat /proc/meminfo # Voir RAM"
      ]
    },
    {
      "cell_type": "code",
      "execution_count": null,
      "metadata": {
        "colab": {
          "base_uri": "https://localhost:8080/"
        },
        "id": "5IGimXDNcbMf",
        "outputId": "8d4d573d-2c44-4d73-f785-9d01b5234895"
      },
      "outputs": [
        {
          "output_type": "stream",
          "name": "stdout",
          "text": [
            "0 ~ num \u001b[92m~dtype( int64 )  : Somme  Ok\u001b[0m\n",
            "1 ~ colors \u001b[92m~dtype( object )  : Concat OK\u001b[0m\n"
          ]
        }
      ],
      "source": [
        "#########################################################################\n",
        "# DEBUG & Compare Sum      Version 1.01                                 #\n",
        "#########################################################################\n",
        "\n",
        "df = pd.DataFrame({'num': [1, 2, 3], 'colors': ['red', 'white', 'blue']})\n",
        "#_____________________________________________________________\n",
        "# Parametre Compare Somme\n",
        "dfREF=df\n",
        "RechercheTest=\"num>0\"\n",
        "listeCol=dfREF.columns   # listeCol=dfREF.columns # pour filter toutes les colonnes de dfREF\n",
        "\n",
        "df1=dfREF\n",
        "df1TEXTE='Version1'\n",
        "\n",
        "df2=dfREF\n",
        "df2TEXTE='Version2'\n",
        "# Itere  listeCol pour chaque df(n) et teste somme df(n) = somme dfREF \n",
        "#-------------------------------------------\n",
        "\n",
        "for Col in listeCol:\n",
        "  Col_type = dfREF[Col].dtype\n",
        "  if Col_type != object and Col_type != \"category\":  #  Si le dtype != object & category => de type Nombre ! \n",
        "    if Col in df1.columns:   \n",
        "      Test1=df1.query(RechercheTest)[Col].sum()\n",
        "    if Col in df2.columns:\n",
        "        Test2=df2.query(RechercheTest)[Col].sum()\n",
        "\n",
        "    Ref=dfREF.query(RechercheTest)[Col].sum()\n",
        "    if Test1!=Ref or Test2!=Ref:\n",
        "       print(dfREF.columns.get_loc(Col),'~',Col,'~dtype(',Col_type,')   ', df1TEXTE,':',Test1==Ref,' - ',df2TEXTE,':',Test2==Ref)\n",
        "    else:\n",
        "      print(dfREF.columns.get_loc(Col),'~',Col,pcolors.OK +'~dtype(',Col_type,')  : Somme  Ok'+ pcolors.RESET)  # La somme  colonne est identique \n",
        "  else:\n",
        "    Test1un=0\n",
        "    Test2un=0\n",
        "    if Col in df1.columns:   \n",
        "      Test1un=df1.query(RechercheTest)[Col].unique().sum()\n",
        "    if Col in df2.columns:\n",
        "      Test2un=df2.query(RechercheTest)[Col].unique().sum()\n",
        "\n",
        "    Refun=dfREF.query(RechercheTest)[Col].unique().sum()\n",
        "    if Test1un !=Refun or Test2un !=Refun:\n",
        "      print(dfREF.columns.get_loc(Col),'~',Col,'~dtype(',Col_type,')   ', df1TEXTE,':',Test1un==Refun,' - ',df2TEXTE,':',Test2un==Refun)\n",
        "    else:\n",
        "      print(dfREF.columns.get_loc(Col),'~',Col,pcolors.OK +'~dtype(',Col_type,')  : Concat OK'+ pcolors.RESET)   # La somme (textes concaténés)  colonne est identique \n",
        "\n",
        "#_FIN______________________________________________________"
      ]
    },
    {
      "cell_type": "markdown",
      "metadata": {
        "id": "yEr7mcvUpNEg"
      },
      "source": [
        "#### Liste Fonctions "
      ]
    },
    {
      "cell_type": "markdown",
      "source": [
        "### Search "
      ],
      "metadata": {
        "id": "M8nJKvm997cJ"
      }
    },
    {
      "cell_type": "code",
      "source": [
        "def get_df_name(df):\n",
        "    name =[x for x in globals() if globals()[x] is df][0]\n",
        "    return name\n",
        "#source : https://stackoverflow.com/questions/31727333/get-the-name-of-a-pandas-dataframe   Pour les series utiliser .name  (ou .names )"
      ],
      "metadata": {
        "id": "ugv88iKGovoM"
      },
      "execution_count": null,
      "outputs": []
    },
    {
      "cell_type": "markdown",
      "metadata": {
        "id": "CeRXBSMjl_o8"
      },
      "source": [
        "##### Search NaN  SearchNaN(DataFrame,Option)"
      ]
    },
    {
      "cell_type": "code",
      "execution_count": null,
      "metadata": {
        "id": "FhZlTn2ZmEZk"
      },
      "outputs": [],
      "source": [
        "#Fonction ChercheNaN : Recherche des NaN\n",
        "def SearchNaN(DataFrame,Option):\n",
        "  \"\"\"ChercheNaN : Recherche des NaN\n",
        "  \n",
        "  Option : \n",
        "  1: Total nombre de NaN par colonne\n",
        "  2: Afficher les lignes ayant au moins 1 NaN\n",
        "  3: Nomnbre de lignes ayant 1 NaN\n",
        "  \"\"\"\n",
        "  df_name = get_df_name(DataFrame)\n",
        "\n",
        "  if Option==1:\n",
        "   return print(pcolors.OK+ df_name +pcolors.RESET,': Nombre de NaN par colonne (total lignes',len(DataFrame),'):/n' ,\n",
        "                DataFrame.isnull().sum(axis=0),'\\n------%-----\\n',\n",
        "                (DataFrame.isnull().sum(axis=0)/len(DataFrame))*100) #  Option1 : Total nombre de NaN par colonne\n",
        "  elif Option==2:\n",
        "    return DataFrame[DataFrame.isnull().any(axis=1)]  #Afficher les lignes ayant au moins 1 NaN\n",
        "  elif Option==3: \n",
        "    return print(pcolors.OK+ df_name +pcolors.RESET,': Nombre de ligne(s) ayant au moins 1 NaN :',\n",
        "                 len(DataFrame[DataFrame.isnull().any(axis=1)]),'\\n-----%------\\n',\n",
        "                 (len(DataFrame[DataFrame.isnull().any(axis=1)])/len(DataFrame))*100)\n",
        "  else:\n",
        "    print(\"SearchNaN(DataFrame,Option) Error :\",\"Choisir Option :\\n\",\n",
        "          \"\\n 1: Total nombre de NaN par colonne\",\n",
        "          \"\\n 2: Total nombre de NaN par colonne\",\n",
        "          \"\\n 3: Nomnbre de lignes ayant 1 NaN\")\n",
        "\n",
        "# DEBUG  recherche NaN\n",
        "# temp=geo\n",
        "# temp.isnull().sum(axis=0) #  Option1 : Total nombre de NaN par colonne\n",
        "# test=temp[temp.isnull().any(axis=1)] ; test #Afficher les lignes ayant au moins 1 NaN\n",
        "# len(test)\n",
        "# test.Zone.unique()"
      ]
    },
    {
      "cell_type": "markdown",
      "metadata": {
        "id": "R1uh5_f5mIWb"
      },
      "source": [
        "##### SearchListe(df,liste)"
      ]
    },
    {
      "cell_type": "code",
      "execution_count": null,
      "metadata": {
        "id": "LBNjEd4RmMCq"
      },
      "outputs": [],
      "source": [
        "# Recherche une liste dans un DataFrame\n",
        "def SearchListe(df,liste):\n",
        "  \"\"\"Recherche une liste dans un DataFrame et renvoie Df avec les Valeur pour masque SearchListe(dx,[2,4,7]) - liste=[2,4,7]/ SearchListe(dx,liste) accepte liste unique liste=[1]\"\"\"\n",
        "  return df[df.isin(liste)].dropna(thresh=1)\n",
        "\n",
        "# Exemple : \n",
        "# dx = pd.DataFrame(np.random.randint(10, size=(10, 3)),\n",
        "#                      columns=['A', 'B', 'C'])\n",
        "# dx\n",
        "# SearchListe(dx,[2,4,7])\n",
        "# liste=[2,4,7]\n",
        "# SearchListe(dx,liste)\n",
        "# SearchListe(dx,l)"
      ]
    },
    {
      "cell_type": "markdown",
      "metadata": {
        "id": "SXHiYkA9elbG"
      },
      "source": [
        "##### ListeCol Unique"
      ]
    },
    {
      "cell_type": "code",
      "execution_count": null,
      "metadata": {
        "id": "tufM7RS3exlj"
      },
      "outputs": [],
      "source": [
        "def ListeColUnique(df):\n",
        "  \"\"\" Itere sur les colonnes d'un DataFrame(df) et listes les valeurs unique de chaque colonne\"\"\"\n",
        "  ListeCol=df.columns\n",
        "  df_name = get_df_name(df)\n",
        "  print(ListeCol)\n",
        "  for col in ListeCol: \n",
        "     print(col,':',len(df[col].unique()),': \\n',df[col].sort_values(ascending=True,na_position='first').unique(),'\\n______________\\n')"
      ]
    },
    {
      "cell_type": "markdown",
      "source": [
        "##### SearchKey(df)"
      ],
      "metadata": {
        "id": "MmdpvopzvPyd"
      }
    },
    {
      "cell_type": "code",
      "source": [
        "def SearchKey(df):\n",
        "  \"\"\" Itere sur les colonnes d'un DataFrame(df) et Compte les valeurs uniques de chaque colonne\"\"\"\n",
        "  ListeCol=df.columns\n",
        "  df_name = get_df_name(df)\n",
        "  # print('Liste colonnes :',pcolors.OK +ListeCol+ pcolors.RESET)\n",
        "  print('\\n______________________________________________________________________________________\\n',\n",
        "        \"Recherche  valeurs uniques : \",\n",
        "        pcolors.WARNING+ df_name +pcolors.RESET,\" \",\n",
        "        # df.shape,\n",
        "        \"(\",len(df),\"Lignes,\",len(ListeCol),\"Colonnes)\",\n",
        "        '\\n______________________________________________________________________________________')\n",
        "  for col in ListeCol: \n",
        "    NbUnique=df[col].nunique()\n",
        "    Nbdoublons=len(df)-NbUnique\n",
        "    if Nbdoublons==0:\n",
        "      print(pcolors.OK +col,\":\"+pcolors.RESET,len(df),\"rows\",\n",
        "          \"|Nb unique:\",NbUnique,\n",
        "          \"|Nb doublons:\", Nbdoublons, \"-\",\n",
        "          np.round(((len(df)-NbUnique)/len(df))*100,0),'%',\n",
        "          pcolors.OK+\"Clé candidate\"+pcolors.RESET,\n",
        "          \"|\",df[col].dtype,\n",
        "          '\\n____________________________________________________________________________________')\n",
        "    elif Nbdoublons!=0:\n",
        "      print(pcolors.OK+col,\":\"+pcolors.RESET,len(df),\"rows\",\n",
        "          \"|Nb unique:\",NbUnique,\n",
        "          \"|Nb doublons:\", Nbdoublons, \"-\",\n",
        "          np.round(((len(df)-NbUnique)/len(df))*100,0),'%', \n",
        "          \"|\",df[col].dtype,     \n",
        "          '\\n______________________________________________________________________________________')"
      ],
      "metadata": {
        "id": "ELoYAlwJq81k"
      },
      "execution_count": null,
      "outputs": []
    },
    {
      "cell_type": "markdown",
      "metadata": {
        "id": "yqUa4UUdmgWa"
      },
      "source": [
        "##### np.Array  LostElement(Array1,Array2)"
      ]
    },
    {
      "cell_type": "code",
      "execution_count": null,
      "metadata": {
        "id": "wsJOhZ4kmjXx"
      },
      "outputs": [],
      "source": [
        "# Rechercher un élément perdu à partir d’un tableau dupliqué \n",
        "def LostElement(A,B):\n",
        "  \"\"\"Rechercher un élément perdu à partir d’un tableau dupliqué\n",
        "    LostElement(ArrayA,ArrayB)  ou LostElement(df.A.unique(),df.B.unique())\n",
        "    Compare deux np.array !!!!\n",
        "      =>  DifférenceA=>B  : Valeur incluse dans A mais Non dans B \n",
        "      =>  DifférenceB=>A  : Valeur incluse dans B mais Non dans A\n",
        "  \"\"\"\n",
        "\n",
        "  # return print('ArrayA:',A,'- Nb val:',len(A),'\\n ArrayB:',B,'- Nb val:',len(B),pcolors.OK + '\\n----------------------\\n Différence inA=>notB',np.setdiff1d(A, B),'\\n----------------------\\n Différence inB=>notN',np.setdiff1d(B, A),'\\n----------------------\\n'+ pcolors.RESET)\n",
        "  return print('\\n----------------------\\n',\n",
        "               pcolors.OK +'Diff. inA=>notB'+ pcolors.RESET,np.setdiff1d(A, B),'\\n----------------------\\n',\n",
        "               pcolors.OK+'Diff. inB=>notA'+ pcolors.RESET,' ',np.setdiff1d(B, A),'\\n----------------------\\n',\n",
        "               pcolors.OK +'ArrayA:'+ pcolors.RESET,A,'- Nb val:',len(A),'\\n',\n",
        "               pcolors.OK +'\\n ArrayB:'+ pcolors.RESET,B,'- Nb val:',len(B),'\\n----------------------\\n')"
      ]
    },
    {
      "cell_type": "markdown",
      "metadata": {
        "id": "IWAaJeqpoVeN"
      },
      "source": [
        "##### Différences entre deux df get_different_rows(source_df, new_df)\n",
        "\n"
      ]
    },
    {
      "cell_type": "code",
      "execution_count": null,
      "metadata": {
        "id": "fRsXPpgqoYFB"
      },
      "outputs": [],
      "source": [
        "def get_different_rows(source_df, new_df):\n",
        "    \"\"\"Returns just the rows from the new dataframe that differ from the source dataframe\"\"\"\n",
        "    merged_df = source_df.merge(new_df, indicator=True, how='outer')\n",
        "    changed_rows_df = merged_df[merged_df['_merge'] == 'right_only']\n",
        "    return changed_rows_df.drop('_merge', axis=1)\n",
        "\n",
        "\n",
        "#Trouver les lignes peu communes entre deux DataFrames\n",
        "# pd.concat([SecuAlimGeo,SecuAlim]).drop_duplicates(keep=False)\n",
        "\n",
        "# #Trouver les lignes peu communes entre deux DataFrames\n",
        "# pd.concat([SecuAlimGeo,SecuAlim]).drop_duplicates(keep=False)"
      ]
    },
    {
      "cell_type": "markdown",
      "source": [
        "### Manip DataFrame"
      ],
      "metadata": {
        "id": "Vz0FVvnI-ODS"
      }
    },
    {
      "cell_type": "markdown",
      "metadata": {
        "id": "wniVx7NDntuB"
      },
      "source": [
        "##### ColMove(df,ColName,ColIndex)"
      ]
    },
    {
      "cell_type": "code",
      "execution_count": null,
      "metadata": {
        "id": "u4UJxPfBnzy5"
      },
      "outputs": [],
      "source": [
        "# Deplacer une colonne dans un dataframe \n",
        "def ColMove(DataFrame,ColName,ColIndex):\n",
        "  \"\"\"Fonction  ColMove(DataFrame,ColName,ColIndex)  \n",
        "   Deplace un colonne dans un DataFrame  - ColName : nom colonne  - ColIndex : rang index souhaité (ddbut df 0 !)\n",
        "  \"\"\" \n",
        "  DataFrame.insert(ColIndex,'Xcol',DataFrame[ColName])\n",
        "  DataFrame.drop(ColName, axis=1, inplace=True)\n",
        "  DataFrame.rename(columns={'Xcol' : ColName},inplace=True)\n",
        "  return DataFrame"
      ]
    },
    {
      "cell_type": "markdown",
      "metadata": {
        "id": "2MBrf4AlnGhK"
      },
      "source": [
        "##### Change dtype Category to Object : dtypeCat2Obj(df)"
      ]
    },
    {
      "cell_type": "code",
      "execution_count": null,
      "metadata": {
        "id": "0J6fmymnnJCb"
      },
      "outputs": [],
      "source": [
        "def dtypeCat2Obj(df):\n",
        "    \"\"\"  iterate through all the columns of a dataframe and \n",
        "    modify the Dtype Catergory to Object (Str)       \n",
        "    \"\"\"\n",
        "     \n",
        "    for col in df.columns:\n",
        "        col_type = df[col].dtype\n",
        "        \n",
        "        if col_type == 'category':\n",
        "             df[col] = df[col].astype(str)    \n",
        "           \n",
        "    return df"
      ]
    },
    {
      "cell_type": "code",
      "execution_count": null,
      "metadata": {
        "id": "EaO4g0jwi9K4"
      },
      "outputs": [],
      "source": [
        "def DataChangeCat2Obj(df):\n",
        "    \"\"\"  iterate through all the columns of a dataframe and \n",
        "    modify the Dtype Catergory to Object (Str)       \n",
        "    \"\"\"\n",
        "     \n",
        "    for col in df.columns:\n",
        "        col_type = df[col].dtype\n",
        "        \n",
        "        if col_type == 'category':\n",
        "             df[col] = df[col].astype(str)    \n",
        "           \n",
        "    return df"
      ]
    },
    {
      "cell_type": "markdown",
      "metadata": {
        "id": "gOrc2k05nTH5"
      },
      "source": [
        "##### ReduceMemUsage reduce_mem_usage(df)"
      ]
    },
    {
      "cell_type": "code",
      "execution_count": null,
      "metadata": {
        "id": "TSU1TrwynWXZ"
      },
      "outputs": [],
      "source": [
        "# Drastically reduce df RAM usage ! \n",
        "#I don't know who the original author of this function but many thanks to him ;) \n",
        "#source : https://towardsdatascience.com/how-to-learn-from-bigdata-files-on-low-memory-incremental-learning-d377282d38ff\n",
        "def reduce_mem_usage(df):\n",
        "    \"\"\" \n",
        "    iterate through all the columns of a dataframe and \n",
        "    modify the data type to reduce memory usage.        \n",
        "    \"\"\"\n",
        "    start_mem = df.memory_usage().sum() / 1024**2\n",
        "    print(('Memory usage of dataframe is {:.2f}' \n",
        "                     'MB').format(start_mem))\n",
        "    \n",
        "    for col in df.columns:\n",
        "        col_type = df[col].dtype\n",
        "        \n",
        "        if col_type != object:\n",
        "            c_min = df[col].min()\n",
        "            c_max = df[col].max()\n",
        "            if str(col_type)[:3] == 'int':\n",
        "                if c_min > np.iinfo(np.int8).min and c_max <\\\n",
        "                  np.iinfo(np.int8).max:\n",
        "                    df[col] = df[col].astype(np.int8)\n",
        "                elif c_min > np.iinfo(np.int16).min and c_max <\\\n",
        "                   np.iinfo(np.int16).max:\n",
        "                    df[col] = df[col].astype(np.int16)\n",
        "                elif c_min > np.iinfo(np.int32).min and c_max <\\\n",
        "                   np.iinfo(np.int32).max:\n",
        "                    df[col] = df[col].astype(np.int32)\n",
        "                elif c_min > np.iinfo(np.int64).min and c_max <\\\n",
        "                   np.iinfo(np.int64).max:\n",
        "                    df[col] = df[col].astype(np.int64)  \n",
        "            else:\n",
        "                if c_min > np.finfo(np.float16).min and c_max <\\\n",
        "                   np.finfo(np.float16).max:\n",
        "                    df[col] = df[col].astype(np.float16)\n",
        "                elif c_min > np.finfo(np.float32).min and c_max <\\\n",
        "                   np.finfo(np.float32).max:\n",
        "                    df[col] = df[col].astype(np.float32)\n",
        "                else:\n",
        "                    df[col] = df[col].astype(np.float64)\n",
        "        else:\n",
        "            df[col] = df[col].astype('category')\n",
        "    end_mem = df.memory_usage().sum() / 1024**2\n",
        "    print(('Memory usage after optimization is: {:.2f}' \n",
        "                              'MB').format(end_mem))\n",
        "    print('Decreased by {:.1f}%'.format(100 * (start_mem - end_mem) \n",
        "                                             / start_mem))\n",
        "    \n",
        "    return df\n",
        "\n",
        "    # Attention ne fct pas si le df à optimizer contient un type 'category'\n",
        "  #Code ...........\n",
        "    # df.info(memory_usage=True)\n",
        "    # DataFrame.memory_usage(index=True, deep=False)"
      ]
    },
    {
      "cell_type": "markdown",
      "metadata": {
        "id": "uOiZ4HjinZvi"
      },
      "source": [
        "###### dtype Min-Max"
      ]
    },
    {
      "cell_type": "code",
      "execution_count": null,
      "metadata": {
        "colab": {
          "base_uri": "https://localhost:8080/"
        },
        "id": "dJHGt2kundVh",
        "outputId": "2d8bfe13-c269-483e-d1b0-0bdf8d9486ac"
      },
      "outputs": [
        {
          "output_type": "execute_result",
          "data": {
            "text/plain": [
              "   np.int8:  np.int16:   np.int32:            np.int64:  np.float16:  \\\n",
              "0      -128     -32768 -2147483648 -9223372036854775808     -65504.0   \n",
              "1       127      32767  2147483647  9223372036854775807      65504.0   \n",
              "\n",
              "    np.float32:    np.float64:  \n",
              "0 -3.402823e+38 -1.797693e+308  \n",
              "1  3.402823e+38  1.797693e+308  "
            ],
            "text/html": [
              "\n",
              "  <div id=\"df-1db005c4-0589-4083-8fee-2f5942acc1f2\">\n",
              "    <div class=\"colab-df-container\">\n",
              "      <div>\n",
              "<style scoped>\n",
              "    .dataframe tbody tr th:only-of-type {\n",
              "        vertical-align: middle;\n",
              "    }\n",
              "\n",
              "    .dataframe tbody tr th {\n",
              "        vertical-align: top;\n",
              "    }\n",
              "\n",
              "    .dataframe thead th {\n",
              "        text-align: right;\n",
              "    }\n",
              "</style>\n",
              "<table border=\"1\" class=\"dataframe\">\n",
              "  <thead>\n",
              "    <tr style=\"text-align: right;\">\n",
              "      <th></th>\n",
              "      <th>np.int8:</th>\n",
              "      <th>np.int16:</th>\n",
              "      <th>np.int32:</th>\n",
              "      <th>np.int64:</th>\n",
              "      <th>np.float16:</th>\n",
              "      <th>np.float32:</th>\n",
              "      <th>np.float64:</th>\n",
              "    </tr>\n",
              "  </thead>\n",
              "  <tbody>\n",
              "    <tr>\n",
              "      <th>0</th>\n",
              "      <td>-128</td>\n",
              "      <td>-32768</td>\n",
              "      <td>-2147483648</td>\n",
              "      <td>-9223372036854775808</td>\n",
              "      <td>-65504.0</td>\n",
              "      <td>-3.402823e+38</td>\n",
              "      <td>-1.797693e+308</td>\n",
              "    </tr>\n",
              "    <tr>\n",
              "      <th>1</th>\n",
              "      <td>127</td>\n",
              "      <td>32767</td>\n",
              "      <td>2147483647</td>\n",
              "      <td>9223372036854775807</td>\n",
              "      <td>65504.0</td>\n",
              "      <td>3.402823e+38</td>\n",
              "      <td>1.797693e+308</td>\n",
              "    </tr>\n",
              "  </tbody>\n",
              "</table>\n",
              "</div>\n",
              "      <button class=\"colab-df-convert\" onclick=\"convertToInteractive('df-1db005c4-0589-4083-8fee-2f5942acc1f2')\"\n",
              "              title=\"Convert this dataframe to an interactive table.\"\n",
              "              style=\"display:none;\">\n",
              "        \n",
              "  <svg xmlns=\"http://www.w3.org/2000/svg\" height=\"24px\"viewBox=\"0 0 24 24\"\n",
              "       width=\"24px\">\n",
              "    <path d=\"M0 0h24v24H0V0z\" fill=\"none\"/>\n",
              "    <path d=\"M18.56 5.44l.94 2.06.94-2.06 2.06-.94-2.06-.94-.94-2.06-.94 2.06-2.06.94zm-11 1L8.5 8.5l.94-2.06 2.06-.94-2.06-.94L8.5 2.5l-.94 2.06-2.06.94zm10 10l.94 2.06.94-2.06 2.06-.94-2.06-.94-.94-2.06-.94 2.06-2.06.94z\"/><path d=\"M17.41 7.96l-1.37-1.37c-.4-.4-.92-.59-1.43-.59-.52 0-1.04.2-1.43.59L10.3 9.45l-7.72 7.72c-.78.78-.78 2.05 0 2.83L4 21.41c.39.39.9.59 1.41.59.51 0 1.02-.2 1.41-.59l7.78-7.78 2.81-2.81c.8-.78.8-2.07 0-2.86zM5.41 20L4 18.59l7.72-7.72 1.47 1.35L5.41 20z\"/>\n",
              "  </svg>\n",
              "      </button>\n",
              "      \n",
              "  <style>\n",
              "    .colab-df-container {\n",
              "      display:flex;\n",
              "      flex-wrap:wrap;\n",
              "      gap: 12px;\n",
              "    }\n",
              "\n",
              "    .colab-df-convert {\n",
              "      background-color: #E8F0FE;\n",
              "      border: none;\n",
              "      border-radius: 50%;\n",
              "      cursor: pointer;\n",
              "      display: none;\n",
              "      fill: #1967D2;\n",
              "      height: 32px;\n",
              "      padding: 0 0 0 0;\n",
              "      width: 32px;\n",
              "    }\n",
              "\n",
              "    .colab-df-convert:hover {\n",
              "      background-color: #E2EBFA;\n",
              "      box-shadow: 0px 1px 2px rgba(60, 64, 67, 0.3), 0px 1px 3px 1px rgba(60, 64, 67, 0.15);\n",
              "      fill: #174EA6;\n",
              "    }\n",
              "\n",
              "    [theme=dark] .colab-df-convert {\n",
              "      background-color: #3B4455;\n",
              "      fill: #D2E3FC;\n",
              "    }\n",
              "\n",
              "    [theme=dark] .colab-df-convert:hover {\n",
              "      background-color: #434B5C;\n",
              "      box-shadow: 0px 1px 3px 1px rgba(0, 0, 0, 0.15);\n",
              "      filter: drop-shadow(0px 1px 2px rgba(0, 0, 0, 0.3));\n",
              "      fill: #FFFFFF;\n",
              "    }\n",
              "  </style>\n",
              "\n",
              "      <script>\n",
              "        const buttonEl =\n",
              "          document.querySelector('#df-1db005c4-0589-4083-8fee-2f5942acc1f2 button.colab-df-convert');\n",
              "        buttonEl.style.display =\n",
              "          google.colab.kernel.accessAllowed ? 'block' : 'none';\n",
              "\n",
              "        async function convertToInteractive(key) {\n",
              "          const element = document.querySelector('#df-1db005c4-0589-4083-8fee-2f5942acc1f2');\n",
              "          const dataTable =\n",
              "            await google.colab.kernel.invokeFunction('convertToInteractive',\n",
              "                                                     [key], {});\n",
              "          if (!dataTable) return;\n",
              "\n",
              "          const docLinkHtml = 'Like what you see? Visit the ' +\n",
              "            '<a target=\"_blank\" href=https://colab.research.google.com/notebooks/data_table.ipynb>data table notebook</a>'\n",
              "            + ' to learn more about interactive tables.';\n",
              "          element.innerHTML = '';\n",
              "          dataTable['output_type'] = 'display_data';\n",
              "          await google.colab.output.renderOutput(dataTable, element);\n",
              "          const docLink = document.createElement('div');\n",
              "          docLink.innerHTML = docLinkHtml;\n",
              "          element.appendChild(docLink);\n",
              "        }\n",
              "      </script>\n",
              "    </div>\n",
              "  </div>\n",
              "  "
            ]
          },
          "metadata": {},
          "execution_count": 93
        }
      ],
      "source": [
        "pd.DataFrame.from_dict(\n",
        "{'np.int8:':[np.iinfo(np.int8).min, np.iinfo(np.int8).max],\n",
        "'np.int16:':[np.iinfo(np.int16).min, np.iinfo(np.int16).max],\n",
        "'np.int32:':[np.iinfo(np.int32).min, np.iinfo(np.int32).max],\n",
        "'np.int64:':[np.iinfo(np.int64).min, np.iinfo(np.int64).max],\n",
        "'np.float16:':[np.finfo(np.float16).min, np.finfo(np.float16).max],\n",
        "'np.float32:':[np.finfo(np.float32).min, np.finfo(np.float32).max],\n",
        "'np.float64:':[np.finfo(np.float64).min, np.finfo(np.float64).max]})\n",
        "\n",
        "## info complementaire https://towardsdatascience.com/reducing-memory-usage-in-pandas-with-smaller-datatypes-b527635830af"
      ]
    },
    {
      "cell_type": "markdown",
      "metadata": {
        "id": "JnX8FACIn5ZS"
      },
      "source": [
        "##### MultiDOWN ( Conversion multi-index  à index simple)"
      ]
    },
    {
      "cell_type": "code",
      "execution_count": null,
      "metadata": {
        "id": "5nmYAbrzn8lx"
      },
      "outputs": [],
      "source": [
        "#Fonction multiDOWN : Conversion df_MultiIndex to df_indexSimple\n",
        "def multiDOWN(DataFrame):\n",
        "  \"\"\"Fonction multiDOWN(DataFrame) : Conversion DataFrame_MultiIndex to DataFrame_indexSimple\"\"\"\n",
        "  DataFrame=DataFrame.columns=DataFrame.columns.to_flat_index() # colonnes => concatener le multi index en un index simple https://datascientyst.com/flatten-multiindex-in-pandas/\n",
        "  DataFrame.reset_index(inplace=True) # Conversion Index en colonnes simple.\n",
        " \n",
        "\n",
        "  # probleme  d'execution "
      ]
    },
    {
      "cell_type": "markdown",
      "source": [
        "### Fonction Satistiques"
      ],
      "metadata": {
        "id": "8TF_ApSU8YrP"
      }
    },
    {
      "cell_type": "markdown",
      "metadata": {
        "id": "xPhqzlgqowQ4"
      },
      "source": [
        "##### PercentCumul(df,Col) Calcul % cumulé"
      ]
    },
    {
      "cell_type": "code",
      "execution_count": null,
      "metadata": {
        "id": "IUV0c1-7ol4B"
      },
      "outputs": [],
      "source": [
        "# Tri ordre decroissant puis ajoute Colonnne avec Calcul % cumulé pour identifier 20/80 ou 80/20 \n",
        "def PercentCumul(df,Col):\n",
        "  \"\"\" Tri ordre decroissant puis ajoute Colonnne Col_cum% avec Calcul % cumulé pour identifier facilement 20/80 ou 80/20 \"\"\"\n",
        "  df=df.sort_values(by=[Col],ascending=False)\n",
        "  df[Col+'_percent']=(df[Col]/df[Col].sum()) * 100\n",
        "  df[Col+'cum_p']=(df[Col].cumsum() / df[Col].sum()) * 100\n",
        "  df[Col+'_percent']=df[Col+'_percent'].round(2)\n",
        "  df[Col+'cum_p']=df[Col+'cum_p'].round(2)\n",
        " \n",
        "  # df=df.sort_values(by=[Col+'cum_%'],ascending=False)\n",
        "  \n",
        "  return df\n",
        "\n",
        "\n",
        "# Cf cumsum() pour  SommeCumulée\n",
        " #https://pandas.pydata.org/docs/reference/api/pandas.DataFrame.cumsum.html \n"
      ]
    },
    {
      "cell_type": "markdown",
      "metadata": {
        "id": "rXQklXV_n-g6"
      },
      "source": [
        "#### Moyenne Pondérée "
      ]
    },
    {
      "cell_type": "code",
      "source": [
        "# Calcul Moyenne Pondérée / Weighted Average\n",
        "\n",
        "def MoyPonderee(df, Colvalues, Colweights):\n",
        "  \"\"\" Moyenne Pondérée / Weighted Average\n",
        "    df: DataFrame  - Colvalues : Col Valeurs  - Colweights : Col. Poids relatif \n",
        "  Peut être utlisée avec un Groupby : df.groupby('Year').apply(MoyPonderee, 'Grades', 'NumCourses')\n",
        "  Source :  Rework of https://datagy.io/pandas-weighted-average/ \n",
        "  \"\"\"\n",
        "  return sum(df[Colweights] * df[Colvalues]) / df[Colweights].sum()\n",
        "\n",
        "\n",
        "# Source Rework of https://datagy.io/pandas-weighted-average/ "
      ],
      "metadata": {
        "id": "rUlLQG9pef1T"
      },
      "execution_count": null,
      "outputs": []
    },
    {
      "cell_type": "markdown",
      "source": [
        "#### QartileIndicatorCol(df,col) Ajout Colonne quartile"
      ],
      "metadata": {
        "id": "a0rklT4VlYMo"
      }
    },
    {
      "cell_type": "code",
      "source": [
        "# Ajout colonne conditionnelle quartile\n",
        "\n",
        "def QartileIndicatorCol(df,col): \n",
        "  \"\"\" Ajout d'un colonne Conditionelle avec le quartile au df courant \n",
        "QartileIndicatorCol(df,col) => df[col+\"Quartile\"] \"\"\"\n",
        "\n",
        "  # Caculs Seuils des quartiles \n",
        "  q25=df[col].quantile(q=0.25, interpolation='linear')\n",
        "  q50=df[col].quantile(q=0.50, interpolation='linear')\n",
        "  q75=df[col].quantile(q=0.75, interpolation='linear')\n",
        "\n",
        "  # Conditions & label \n",
        "  conditionlist = [\n",
        "    (df[col] <= q25) ,\n",
        "    (df[col] > q25) & (df[col] <q75),\n",
        "    (df[col] >= q75)]\n",
        "   \n",
        "  choicelist = ['quartile1','quartile2','quartile3']\n",
        "\n",
        "  df[col+\"Quartile\"] = np.select(conditionlist, choicelist, default='Not Specified')\n",
        "  return df"
      ],
      "metadata": {
        "id": "oLfznp-glesh"
      },
      "execution_count": null,
      "outputs": []
    },
    {
      "cell_type": "markdown",
      "source": [
        "####  Zscore :  Zscore(df,Col)"
      ],
      "metadata": {
        "id": "SzChDO4B75nj"
      }
    },
    {
      "cell_type": "code",
      "source": [
        "def Zscore(df,Col): \n",
        "  \"\"\"Zscore(df,Col) :  Ajout colonnes Zscore_Col &  NivConf_Zscore_col\n",
        "                      'ZSscore Omlit NaN  & Interepretion Niv confiance\n",
        "  Parametres  Df: DataFrame & col : Colonne\n",
        "  \"\"\"\n",
        "  import scipy.stats as stats \n",
        "  #https://docs.scipy.org/doc/scipy/reference/generated/scipy.stats.zscore.html\n",
        "  df[\"Zscore_\"+Col] = stats.zscore(df[Col], axis=0, nan_policy='omit')\n",
        "\n",
        "  #https://pandas.pydata.org/docs/reference/api/pandas.DataFrame.std.html \n",
        "  # df[\"ZscoreManuel\"+Col] = (df[Col] - df[Col].mean())/df[Col].std(ddof=0) # Calcul Zscore Manuel\n",
        "  \n",
        "  Za=2.58 ;ZaConf=\"90%\" # seuil confiance 90% \n",
        "  Zb=1.96 ;ZbConf=\"95%\"# seuil confiance95% \n",
        "  Zc=1.65 ;ZcConf=\"99%\"# seuil confiance 99% \n",
        "  # source : https://pro.arcgis.com/fr/pro-app/2.7/tool-reference/spatial-statistics/what-is-a-z-score-what-is-a-p-value.htm\n",
        "  #  np.abs(z_score) > threshold:\n",
        "\n",
        "\n",
        "  # Colonne Interpration Zscore \n",
        "  ColRefName=\"Zscore_\"+Col # Nom Colonne de référence pour la segmentation\n",
        "  ColCatName=\"Seuil_ConF_Zscore\" # Nom Colonne Categorie\n",
        "  df[ColCatName]=\"?\"\n",
        "  df[ColRefName].fillna(0,inplace=True)\n",
        "  \n",
        "  df.loc[np.abs(df[ColRefName]) > Za , ColCatName] = \"Inférieur à \"+ZaConf \n",
        "  df.loc[np.abs(df[ColRefName]) <= Za , ColCatName] = ZaConf    # utilisation de la Valeur Absolue (-za <= Seuil confiance <= Za )\n",
        "  df.loc[np.abs(df[ColRefName]) <= Zb , ColCatName] = ZbConf\n",
        "  df.loc[np.abs(df[ColRefName]) <= Zc , ColCatName] = ZcConf\n",
        "\n",
        "  df.sort_values(ColRefName, inplace=True)\n",
        "\n",
        "\n",
        "  print(ColRefName,ColCatName)\n",
        "  return df"
      ],
      "metadata": {
        "id": "sTdYGglH8AfN"
      },
      "execution_count": null,
      "outputs": []
    },
    {
      "cell_type": "markdown",
      "source": [
        "# <font color=\"00CED1\">  Dataset </font>"
      ],
      "metadata": {
        "id": "0B_Mvnj2hNGm"
      }
    },
    {
      "cell_type": "markdown",
      "source": [
        "## import des RAW"
      ],
      "metadata": {
        "id": "6ASHf6hUb3ab"
      }
    },
    {
      "cell_type": "code",
      "source": [
        "#https://openclassrooms.com/fr/paths/324/projects/859/assignment\n",
        "\n",
        "# https://s3-eu-west-1.amazonaws.com/static.oc-static.com/prod/courses/files/parcours-data-analyst/DAN-P6-donnees.zip\n",
        "\n",
        "# pd.read_csv(\"https://s3-eu-west-1.amazonaws.com/static.oc-static.com/prod/courses/files/parcours-data-analyst/DAN-P6-donnees.zip\",sep=',')  \n",
        "# \"\"\"ValueError: Multiple files found in ZIP file. Only one file per ZIP: ['DAN-P6-donnees/', '__MACOSX/._DAN-P6-donnees', 'DAN-P6-donnees/customers.csv', '__MACOSX/DAN-P6-donnees/._customers.csv', 'DAN-P6-donnees/products.csv', '__MACOSX/DAN-P6-donnees/._products.csv', 'DAN-P6-donnees/transactions.csv', '__MACOSX/DAN-P6-donnees/._transactions.csv']\"\"\"\n",
        "\n",
        "\n",
        "PATH=\"https://github.com/vincent-arese/OC-P6/raw/main/\"\n",
        "customersRAW=pd.read_csv(PATH+\"customers.csv\")\n",
        "productsRAW=pd.read_csv(PATH+\"products.csv\")\n",
        "transactionsRAW=pd.read_csv(PATH+\"transactions.zip\")\n",
        "\n",
        "# customersRAW=pd.read_csv(\"https://github.com/vincent-arese/OC-P6/raw/main/customers.csv\")\n",
        "# productsRAW=pd.read_csv(\"https://github.com/vincent-arese/OC-P6/raw/main/products.csv\")\n",
        "# transactionsRAW=pd.read_csv(\"https://github.com/vincent-arese/OC-P6/raw/main/transactions.zip\")\n"
      ],
      "metadata": {
        "id": "y9IHrkKdhOnO"
      },
      "execution_count": null,
      "outputs": []
    },
    {
      "cell_type": "markdown",
      "source": [
        "## Nettoyage des DataFrames"
      ],
      "metadata": {
        "id": "E7zJWuFkb-1j"
      }
    },
    {
      "cell_type": "markdown",
      "source": [
        "### Customers"
      ],
      "metadata": {
        "id": "ezFZeLXodJwV"
      }
    },
    {
      "cell_type": "code",
      "source": [
        "df=customersRAW.copy()\n",
        "SearchKey(df)\n",
        "customers=df\n",
        "customers # 8623 rows × 3 columns"
      ],
      "metadata": {
        "colab": {
          "base_uri": "https://localhost:8080/",
          "height": 597
        },
        "id": "KutLiiBUb1gb",
        "outputId": "e1d4e20b-ba17-4955-ae16-f12b15f4a464"
      },
      "execution_count": null,
      "outputs": [
        {
          "output_type": "stream",
          "name": "stdout",
          "text": [
            "\n",
            "______________________________________________________________________________________\n",
            " Recherche  valeurs uniques :  \u001b[93mdf\u001b[0m   ( 8623 Lignes, 3 Colonnes) \n",
            "______________________________________________________________________________________\n",
            "\u001b[92mclient_id :\u001b[0m 8623 rows |Nb unique: 8623 |Nb doublons: 0 - 0.0 % \u001b[92mClé candidate\u001b[0m | object \n",
            "____________________________________________________________________________________\n",
            "\u001b[92msex :\u001b[0m 8623 rows |Nb unique: 2 |Nb doublons: 8621 - 100.0 % | object \n",
            "______________________________________________________________________________________\n",
            "\u001b[92mbirth :\u001b[0m 8623 rows |Nb unique: 76 |Nb doublons: 8547 - 99.0 % | int64 \n",
            "______________________________________________________________________________________\n"
          ]
        },
        {
          "output_type": "execute_result",
          "data": {
            "text/plain": [
              "     client_id sex  birth\n",
              "0       c_4410   f   1967\n",
              "1       c_7839   f   1975\n",
              "2       c_1699   f   1984\n",
              "3       c_5961   f   1962\n",
              "4       c_5320   m   1943\n",
              "...        ...  ..    ...\n",
              "8618    c_7920   m   1956\n",
              "8619    c_7403   f   1970\n",
              "8620    c_5119   m   1974\n",
              "8621    c_5643   f   1968\n",
              "8622      c_84   f   1982\n",
              "\n",
              "[8623 rows x 3 columns]"
            ],
            "text/html": [
              "\n",
              "  <div id=\"df-6174ffda-dd3e-43a9-935e-2f812095191d\">\n",
              "    <div class=\"colab-df-container\">\n",
              "      <div>\n",
              "<style scoped>\n",
              "    .dataframe tbody tr th:only-of-type {\n",
              "        vertical-align: middle;\n",
              "    }\n",
              "\n",
              "    .dataframe tbody tr th {\n",
              "        vertical-align: top;\n",
              "    }\n",
              "\n",
              "    .dataframe thead th {\n",
              "        text-align: right;\n",
              "    }\n",
              "</style>\n",
              "<table border=\"1\" class=\"dataframe\">\n",
              "  <thead>\n",
              "    <tr style=\"text-align: right;\">\n",
              "      <th></th>\n",
              "      <th>client_id</th>\n",
              "      <th>sex</th>\n",
              "      <th>birth</th>\n",
              "    </tr>\n",
              "  </thead>\n",
              "  <tbody>\n",
              "    <tr>\n",
              "      <th>0</th>\n",
              "      <td>c_4410</td>\n",
              "      <td>f</td>\n",
              "      <td>1967</td>\n",
              "    </tr>\n",
              "    <tr>\n",
              "      <th>1</th>\n",
              "      <td>c_7839</td>\n",
              "      <td>f</td>\n",
              "      <td>1975</td>\n",
              "    </tr>\n",
              "    <tr>\n",
              "      <th>2</th>\n",
              "      <td>c_1699</td>\n",
              "      <td>f</td>\n",
              "      <td>1984</td>\n",
              "    </tr>\n",
              "    <tr>\n",
              "      <th>3</th>\n",
              "      <td>c_5961</td>\n",
              "      <td>f</td>\n",
              "      <td>1962</td>\n",
              "    </tr>\n",
              "    <tr>\n",
              "      <th>4</th>\n",
              "      <td>c_5320</td>\n",
              "      <td>m</td>\n",
              "      <td>1943</td>\n",
              "    </tr>\n",
              "    <tr>\n",
              "      <th>...</th>\n",
              "      <td>...</td>\n",
              "      <td>...</td>\n",
              "      <td>...</td>\n",
              "    </tr>\n",
              "    <tr>\n",
              "      <th>8618</th>\n",
              "      <td>c_7920</td>\n",
              "      <td>m</td>\n",
              "      <td>1956</td>\n",
              "    </tr>\n",
              "    <tr>\n",
              "      <th>8619</th>\n",
              "      <td>c_7403</td>\n",
              "      <td>f</td>\n",
              "      <td>1970</td>\n",
              "    </tr>\n",
              "    <tr>\n",
              "      <th>8620</th>\n",
              "      <td>c_5119</td>\n",
              "      <td>m</td>\n",
              "      <td>1974</td>\n",
              "    </tr>\n",
              "    <tr>\n",
              "      <th>8621</th>\n",
              "      <td>c_5643</td>\n",
              "      <td>f</td>\n",
              "      <td>1968</td>\n",
              "    </tr>\n",
              "    <tr>\n",
              "      <th>8622</th>\n",
              "      <td>c_84</td>\n",
              "      <td>f</td>\n",
              "      <td>1982</td>\n",
              "    </tr>\n",
              "  </tbody>\n",
              "</table>\n",
              "<p>8623 rows × 3 columns</p>\n",
              "</div>\n",
              "      <button class=\"colab-df-convert\" onclick=\"convertToInteractive('df-6174ffda-dd3e-43a9-935e-2f812095191d')\"\n",
              "              title=\"Convert this dataframe to an interactive table.\"\n",
              "              style=\"display:none;\">\n",
              "        \n",
              "  <svg xmlns=\"http://www.w3.org/2000/svg\" height=\"24px\"viewBox=\"0 0 24 24\"\n",
              "       width=\"24px\">\n",
              "    <path d=\"M0 0h24v24H0V0z\" fill=\"none\"/>\n",
              "    <path d=\"M18.56 5.44l.94 2.06.94-2.06 2.06-.94-2.06-.94-.94-2.06-.94 2.06-2.06.94zm-11 1L8.5 8.5l.94-2.06 2.06-.94-2.06-.94L8.5 2.5l-.94 2.06-2.06.94zm10 10l.94 2.06.94-2.06 2.06-.94-2.06-.94-.94-2.06-.94 2.06-2.06.94z\"/><path d=\"M17.41 7.96l-1.37-1.37c-.4-.4-.92-.59-1.43-.59-.52 0-1.04.2-1.43.59L10.3 9.45l-7.72 7.72c-.78.78-.78 2.05 0 2.83L4 21.41c.39.39.9.59 1.41.59.51 0 1.02-.2 1.41-.59l7.78-7.78 2.81-2.81c.8-.78.8-2.07 0-2.86zM5.41 20L4 18.59l7.72-7.72 1.47 1.35L5.41 20z\"/>\n",
              "  </svg>\n",
              "      </button>\n",
              "      \n",
              "  <style>\n",
              "    .colab-df-container {\n",
              "      display:flex;\n",
              "      flex-wrap:wrap;\n",
              "      gap: 12px;\n",
              "    }\n",
              "\n",
              "    .colab-df-convert {\n",
              "      background-color: #E8F0FE;\n",
              "      border: none;\n",
              "      border-radius: 50%;\n",
              "      cursor: pointer;\n",
              "      display: none;\n",
              "      fill: #1967D2;\n",
              "      height: 32px;\n",
              "      padding: 0 0 0 0;\n",
              "      width: 32px;\n",
              "    }\n",
              "\n",
              "    .colab-df-convert:hover {\n",
              "      background-color: #E2EBFA;\n",
              "      box-shadow: 0px 1px 2px rgba(60, 64, 67, 0.3), 0px 1px 3px 1px rgba(60, 64, 67, 0.15);\n",
              "      fill: #174EA6;\n",
              "    }\n",
              "\n",
              "    [theme=dark] .colab-df-convert {\n",
              "      background-color: #3B4455;\n",
              "      fill: #D2E3FC;\n",
              "    }\n",
              "\n",
              "    [theme=dark] .colab-df-convert:hover {\n",
              "      background-color: #434B5C;\n",
              "      box-shadow: 0px 1px 3px 1px rgba(0, 0, 0, 0.15);\n",
              "      filter: drop-shadow(0px 1px 2px rgba(0, 0, 0, 0.3));\n",
              "      fill: #FFFFFF;\n",
              "    }\n",
              "  </style>\n",
              "\n",
              "      <script>\n",
              "        const buttonEl =\n",
              "          document.querySelector('#df-6174ffda-dd3e-43a9-935e-2f812095191d button.colab-df-convert');\n",
              "        buttonEl.style.display =\n",
              "          google.colab.kernel.accessAllowed ? 'block' : 'none';\n",
              "\n",
              "        async function convertToInteractive(key) {\n",
              "          const element = document.querySelector('#df-6174ffda-dd3e-43a9-935e-2f812095191d');\n",
              "          const dataTable =\n",
              "            await google.colab.kernel.invokeFunction('convertToInteractive',\n",
              "                                                     [key], {});\n",
              "          if (!dataTable) return;\n",
              "\n",
              "          const docLinkHtml = 'Like what you see? Visit the ' +\n",
              "            '<a target=\"_blank\" href=https://colab.research.google.com/notebooks/data_table.ipynb>data table notebook</a>'\n",
              "            + ' to learn more about interactive tables.';\n",
              "          element.innerHTML = '';\n",
              "          dataTable['output_type'] = 'display_data';\n",
              "          await google.colab.output.renderOutput(dataTable, element);\n",
              "          const docLink = document.createElement('div');\n",
              "          docLink.innerHTML = docLinkHtml;\n",
              "          element.appendChild(docLink);\n",
              "        }\n",
              "      </script>\n",
              "    </div>\n",
              "  </div>\n",
              "  "
            ]
          },
          "metadata": {},
          "execution_count": 25
        }
      ]
    },
    {
      "cell_type": "markdown",
      "source": [
        "### products"
      ],
      "metadata": {
        "id": "BB6tMfuPdSPj"
      }
    },
    {
      "cell_type": "code",
      "source": [
        "df = productsRAW.copy()\n",
        "SearchKey(df)\n",
        "products = df\n",
        "products #3287 rows × 3 columns"
      ],
      "metadata": {
        "colab": {
          "base_uri": "https://localhost:8080/",
          "height": 597
        },
        "id": "0eBIShv4dyyc",
        "outputId": "29e1b071-b6a6-4d4a-ad9d-97b151ed8556"
      },
      "execution_count": null,
      "outputs": [
        {
          "output_type": "stream",
          "name": "stdout",
          "text": [
            "\n",
            "______________________________________________________________________________________\n",
            " Recherche  valeurs uniques :  \u001b[93mdf\u001b[0m   ( 3287 Lignes, 3 Colonnes) \n",
            "______________________________________________________________________________________\n",
            "\u001b[92mid_prod :\u001b[0m 3287 rows |Nb unique: 3287 |Nb doublons: 0 - 0.0 % \u001b[92mClé candidate\u001b[0m | object \n",
            "____________________________________________________________________________________\n",
            "\u001b[92mprice :\u001b[0m 3287 rows |Nb unique: 1455 |Nb doublons: 1832 - 56.0 % | float64 \n",
            "______________________________________________________________________________________\n",
            "\u001b[92mcateg :\u001b[0m 3287 rows |Nb unique: 3 |Nb doublons: 3284 - 100.0 % | int64 \n",
            "______________________________________________________________________________________\n"
          ]
        },
        {
          "output_type": "execute_result",
          "data": {
            "text/plain": [
              "     id_prod   price  categ\n",
              "0     0_1421   19.99      0\n",
              "1     0_1368    5.13      0\n",
              "2      0_731   17.99      0\n",
              "3      1_587    4.99      1\n",
              "4     0_1507    3.99      0\n",
              "...      ...     ...    ...\n",
              "3282    2_23  115.99      2\n",
              "3283   0_146   17.14      0\n",
              "3284   0_802   11.22      0\n",
              "3285   1_140   38.56      1\n",
              "3286  0_1920   25.16      0\n",
              "\n",
              "[3287 rows x 3 columns]"
            ],
            "text/html": [
              "\n",
              "  <div id=\"df-d459b50f-96be-4b3a-8e2a-bd94b44f5162\">\n",
              "    <div class=\"colab-df-container\">\n",
              "      <div>\n",
              "<style scoped>\n",
              "    .dataframe tbody tr th:only-of-type {\n",
              "        vertical-align: middle;\n",
              "    }\n",
              "\n",
              "    .dataframe tbody tr th {\n",
              "        vertical-align: top;\n",
              "    }\n",
              "\n",
              "    .dataframe thead th {\n",
              "        text-align: right;\n",
              "    }\n",
              "</style>\n",
              "<table border=\"1\" class=\"dataframe\">\n",
              "  <thead>\n",
              "    <tr style=\"text-align: right;\">\n",
              "      <th></th>\n",
              "      <th>id_prod</th>\n",
              "      <th>price</th>\n",
              "      <th>categ</th>\n",
              "    </tr>\n",
              "  </thead>\n",
              "  <tbody>\n",
              "    <tr>\n",
              "      <th>0</th>\n",
              "      <td>0_1421</td>\n",
              "      <td>19.99</td>\n",
              "      <td>0</td>\n",
              "    </tr>\n",
              "    <tr>\n",
              "      <th>1</th>\n",
              "      <td>0_1368</td>\n",
              "      <td>5.13</td>\n",
              "      <td>0</td>\n",
              "    </tr>\n",
              "    <tr>\n",
              "      <th>2</th>\n",
              "      <td>0_731</td>\n",
              "      <td>17.99</td>\n",
              "      <td>0</td>\n",
              "    </tr>\n",
              "    <tr>\n",
              "      <th>3</th>\n",
              "      <td>1_587</td>\n",
              "      <td>4.99</td>\n",
              "      <td>1</td>\n",
              "    </tr>\n",
              "    <tr>\n",
              "      <th>4</th>\n",
              "      <td>0_1507</td>\n",
              "      <td>3.99</td>\n",
              "      <td>0</td>\n",
              "    </tr>\n",
              "    <tr>\n",
              "      <th>...</th>\n",
              "      <td>...</td>\n",
              "      <td>...</td>\n",
              "      <td>...</td>\n",
              "    </tr>\n",
              "    <tr>\n",
              "      <th>3282</th>\n",
              "      <td>2_23</td>\n",
              "      <td>115.99</td>\n",
              "      <td>2</td>\n",
              "    </tr>\n",
              "    <tr>\n",
              "      <th>3283</th>\n",
              "      <td>0_146</td>\n",
              "      <td>17.14</td>\n",
              "      <td>0</td>\n",
              "    </tr>\n",
              "    <tr>\n",
              "      <th>3284</th>\n",
              "      <td>0_802</td>\n",
              "      <td>11.22</td>\n",
              "      <td>0</td>\n",
              "    </tr>\n",
              "    <tr>\n",
              "      <th>3285</th>\n",
              "      <td>1_140</td>\n",
              "      <td>38.56</td>\n",
              "      <td>1</td>\n",
              "    </tr>\n",
              "    <tr>\n",
              "      <th>3286</th>\n",
              "      <td>0_1920</td>\n",
              "      <td>25.16</td>\n",
              "      <td>0</td>\n",
              "    </tr>\n",
              "  </tbody>\n",
              "</table>\n",
              "<p>3287 rows × 3 columns</p>\n",
              "</div>\n",
              "      <button class=\"colab-df-convert\" onclick=\"convertToInteractive('df-d459b50f-96be-4b3a-8e2a-bd94b44f5162')\"\n",
              "              title=\"Convert this dataframe to an interactive table.\"\n",
              "              style=\"display:none;\">\n",
              "        \n",
              "  <svg xmlns=\"http://www.w3.org/2000/svg\" height=\"24px\"viewBox=\"0 0 24 24\"\n",
              "       width=\"24px\">\n",
              "    <path d=\"M0 0h24v24H0V0z\" fill=\"none\"/>\n",
              "    <path d=\"M18.56 5.44l.94 2.06.94-2.06 2.06-.94-2.06-.94-.94-2.06-.94 2.06-2.06.94zm-11 1L8.5 8.5l.94-2.06 2.06-.94-2.06-.94L8.5 2.5l-.94 2.06-2.06.94zm10 10l.94 2.06.94-2.06 2.06-.94-2.06-.94-.94-2.06-.94 2.06-2.06.94z\"/><path d=\"M17.41 7.96l-1.37-1.37c-.4-.4-.92-.59-1.43-.59-.52 0-1.04.2-1.43.59L10.3 9.45l-7.72 7.72c-.78.78-.78 2.05 0 2.83L4 21.41c.39.39.9.59 1.41.59.51 0 1.02-.2 1.41-.59l7.78-7.78 2.81-2.81c.8-.78.8-2.07 0-2.86zM5.41 20L4 18.59l7.72-7.72 1.47 1.35L5.41 20z\"/>\n",
              "  </svg>\n",
              "      </button>\n",
              "      \n",
              "  <style>\n",
              "    .colab-df-container {\n",
              "      display:flex;\n",
              "      flex-wrap:wrap;\n",
              "      gap: 12px;\n",
              "    }\n",
              "\n",
              "    .colab-df-convert {\n",
              "      background-color: #E8F0FE;\n",
              "      border: none;\n",
              "      border-radius: 50%;\n",
              "      cursor: pointer;\n",
              "      display: none;\n",
              "      fill: #1967D2;\n",
              "      height: 32px;\n",
              "      padding: 0 0 0 0;\n",
              "      width: 32px;\n",
              "    }\n",
              "\n",
              "    .colab-df-convert:hover {\n",
              "      background-color: #E2EBFA;\n",
              "      box-shadow: 0px 1px 2px rgba(60, 64, 67, 0.3), 0px 1px 3px 1px rgba(60, 64, 67, 0.15);\n",
              "      fill: #174EA6;\n",
              "    }\n",
              "\n",
              "    [theme=dark] .colab-df-convert {\n",
              "      background-color: #3B4455;\n",
              "      fill: #D2E3FC;\n",
              "    }\n",
              "\n",
              "    [theme=dark] .colab-df-convert:hover {\n",
              "      background-color: #434B5C;\n",
              "      box-shadow: 0px 1px 3px 1px rgba(0, 0, 0, 0.15);\n",
              "      filter: drop-shadow(0px 1px 2px rgba(0, 0, 0, 0.3));\n",
              "      fill: #FFFFFF;\n",
              "    }\n",
              "  </style>\n",
              "\n",
              "      <script>\n",
              "        const buttonEl =\n",
              "          document.querySelector('#df-d459b50f-96be-4b3a-8e2a-bd94b44f5162 button.colab-df-convert');\n",
              "        buttonEl.style.display =\n",
              "          google.colab.kernel.accessAllowed ? 'block' : 'none';\n",
              "\n",
              "        async function convertToInteractive(key) {\n",
              "          const element = document.querySelector('#df-d459b50f-96be-4b3a-8e2a-bd94b44f5162');\n",
              "          const dataTable =\n",
              "            await google.colab.kernel.invokeFunction('convertToInteractive',\n",
              "                                                     [key], {});\n",
              "          if (!dataTable) return;\n",
              "\n",
              "          const docLinkHtml = 'Like what you see? Visit the ' +\n",
              "            '<a target=\"_blank\" href=https://colab.research.google.com/notebooks/data_table.ipynb>data table notebook</a>'\n",
              "            + ' to learn more about interactive tables.';\n",
              "          element.innerHTML = '';\n",
              "          dataTable['output_type'] = 'display_data';\n",
              "          await google.colab.output.renderOutput(dataTable, element);\n",
              "          const docLink = document.createElement('div');\n",
              "          docLink.innerHTML = docLinkHtml;\n",
              "          element.appendChild(docLink);\n",
              "        }\n",
              "      </script>\n",
              "    </div>\n",
              "  </div>\n",
              "  "
            ]
          },
          "metadata": {},
          "execution_count": 26
        }
      ]
    },
    {
      "cell_type": "markdown",
      "source": [
        "### Transactions"
      ],
      "metadata": {
        "id": "U3hMYWWDeHbc"
      }
    },
    {
      "cell_type": "code",
      "source": [
        "df = transactionsRAW.copy() #679532 rows × 4 columns\n",
        "\n",
        "df.isnull().any()\n"
      ],
      "metadata": {
        "colab": {
          "base_uri": "https://localhost:8080/"
        },
        "id": "OsvdIGrfuvYo",
        "outputId": "a9bb85b0-0c76-46fb-e44f-cedb93785340"
      },
      "execution_count": null,
      "outputs": [
        {
          "output_type": "execute_result",
          "data": {
            "text/plain": [
              "id_prod       False\n",
              "date          False\n",
              "session_id    False\n",
              "client_id     False\n",
              "dtype: bool"
            ]
          },
          "metadata": {},
          "execution_count": 27
        }
      ]
    },
    {
      "cell_type": "code",
      "source": [
        "df = transactionsRAW.copy() #679532 rows × 4 columns\n",
        "\n",
        "df.isnull().any() # All false No NaN in df\n",
        "\n",
        "# SearchKey(df)\n",
        "\n",
        "# Conversion colonne date  au format datetime & Supression des lignes de test\n",
        "\n",
        "# df['date'] = pd.to_datetime(df['date']) # date  ParseError\n",
        "#ParserError: Unknown string format: test_2021-03-01 02:30:02.237419  => Suprimer les lignes de Test \n",
        "\n",
        "df.loc[ df.date.str.contains(\"test_\") == True] #200 rows × 4 columns\n",
        "\n",
        "#Alternative => Exclure les lignes test \n",
        "# dz=df[~df.date.str.startswith(\"test_\")]\n",
        "\n",
        "df = df.loc[ df.date.str.contains(\"test_\") == False] #679332 rows × 4 columns  => Exclure les lignes test \n",
        "\n",
        "\n",
        "\n",
        "test = df.date.str.contains(\"test_\").sum()\n",
        "print(\"Les\", test, \"lignes de test ont été suprimées\")\n",
        "\n",
        "df['date'] = pd.to_datetime(df['date'])\n",
        "\n",
        "\n",
        "# df[\"DateCourte\"]=pd.to_datetime(df[\"DateCourte\"],dayfirst=True)\n",
        "df[\"Year\"]=df.date.dt.year.astype(str)\n",
        "df[\"Month\"]=df.date.dt.month.astype(str)\n",
        "df[\"Day\"]=df.date.dt.day.astype(str)\n",
        "\n",
        "df[\"DateRapide\"]=df.date.dt.day.astype(str) + \"/\" + df.date.dt.month.astype(str)+ \"/\" + df.date.dt.year.astype(str) #OK mais au format String ! \n",
        "\n",
        "# df[\"DateRapideDateTime\"]=pd.to_datetime(df.date.dt.day.astype(str) + \"/\" + df.date.dt.month.astype(str)+ \"/\" + df.date.dt.year.astype(str),dayfirst=True) #OK format datetime mais xecutoion trop longue\n",
        "\n",
        "\n",
        "# df[\"DateCourte2\"]=pd.to_datetime(df['date'].dt.strftime(\"%d/%m/%y\") ,dayfirst=True) #OK format datetime mais xecutoion trop longue\n",
        "\n",
        "SearchKey(df)\n",
        "transactions = df\n",
        "transactions\n",
        "\n",
        "\n",
        "# pandas.to_datetime(arg, errors='raise', dayfirst=False, yearfirst=False, utc=None, format=None, exact=True, unit=None, infer_datetime_format=False, origin='unix', cache=True)\n",
        "\n",
        "# https://pandas.pydata.org/docs/user_guide/timeseries.html\n",
        "# https://pandas.pydata.org/docs/reference/api/pandas.to_datetime.html\n",
        "# https://docs.python.org/fr/3.7/library/datetime.html"
      ],
      "metadata": {
        "colab": {
          "base_uri": "https://localhost:8080/",
          "height": 788
        },
        "id": "lcw5lxYIeGsT",
        "outputId": "ba30b2a4-21c0-4519-853a-9beab1ab5315"
      },
      "execution_count": null,
      "outputs": [
        {
          "output_type": "stream",
          "name": "stdout",
          "text": [
            "Les 0 lignes de test ont été suprimées\n",
            "\n",
            "______________________________________________________________________________________\n",
            " Recherche  valeurs uniques :  \u001b[93mdf\u001b[0m   ( 679332 Lignes, 8 Colonnes) \n",
            "______________________________________________________________________________________\n",
            "\u001b[92mid_prod :\u001b[0m 679332 rows |Nb unique: 3266 |Nb doublons: 676066 - 100.0 % | object \n",
            "______________________________________________________________________________________\n",
            "\u001b[92mdate :\u001b[0m 679332 rows |Nb unique: 679332 |Nb doublons: 0 - 0.0 % \u001b[92mClé candidate\u001b[0m | datetime64[ns] \n",
            "____________________________________________________________________________________\n",
            "\u001b[92msession_id :\u001b[0m 679332 rows |Nb unique: 342315 |Nb doublons: 337017 - 50.0 % | object \n",
            "______________________________________________________________________________________\n",
            "\u001b[92mclient_id :\u001b[0m 679332 rows |Nb unique: 8600 |Nb doublons: 670732 - 99.0 % | object \n",
            "______________________________________________________________________________________\n",
            "\u001b[92mYear :\u001b[0m 679332 rows |Nb unique: 3 |Nb doublons: 679329 - 100.0 % | object \n",
            "______________________________________________________________________________________\n",
            "\u001b[92mMonth :\u001b[0m 679332 rows |Nb unique: 12 |Nb doublons: 679320 - 100.0 % | object \n",
            "______________________________________________________________________________________\n",
            "\u001b[92mDay :\u001b[0m 679332 rows |Nb unique: 31 |Nb doublons: 679301 - 100.0 % | object \n",
            "______________________________________________________________________________________\n",
            "\u001b[92mDateRapide :\u001b[0m 679332 rows |Nb unique: 730 |Nb doublons: 678602 - 100.0 % | object \n",
            "______________________________________________________________________________________\n"
          ]
        },
        {
          "output_type": "execute_result",
          "data": {
            "text/plain": [
              "       id_prod                       date session_id client_id  Year Month  \\\n",
              "0       0_1518 2022-05-20 13:21:29.043970   s_211425     c_103  2022     5   \n",
              "1        1_251 2022-02-02 07:55:19.149409   s_158752    c_8534  2022     2   \n",
              "2       0_1277 2022-06-18 15:44:33.155329   s_225667    c_6714  2022     6   \n",
              "3        2_209 2021-06-24 04:19:29.835891    s_52962    c_6941  2021     6   \n",
              "4       0_1509 2023-01-11 08:22:08.194479   s_325227    c_4232  2023     1   \n",
              "...        ...                        ...        ...       ...   ...   ...   \n",
              "679527  0_1551 2022-01-15 13:05:06.246925   s_150195    c_8489  2022     1   \n",
              "679528   1_639 2022-03-19 16:03:23.429229   s_181434    c_4370  2022     3   \n",
              "679529  0_1425 2022-12-20 04:33:37.584749   s_314704     c_304  2022    12   \n",
              "679530  0_1994 2021-07-16 20:36:35.350579    s_63204    c_2227  2021     7   \n",
              "679531   1_523 2022-09-28 01:12:01.973763   s_274568    c_3873  2022     9   \n",
              "\n",
              "       Day  DateRapide  \n",
              "0       20   20/5/2022  \n",
              "1        2    2/2/2022  \n",
              "2       18   18/6/2022  \n",
              "3       24   24/6/2021  \n",
              "4       11   11/1/2023  \n",
              "...     ..         ...  \n",
              "679527  15   15/1/2022  \n",
              "679528  19   19/3/2022  \n",
              "679529  20  20/12/2022  \n",
              "679530  16   16/7/2021  \n",
              "679531  28   28/9/2022  \n",
              "\n",
              "[679332 rows x 8 columns]"
            ],
            "text/html": [
              "\n",
              "  <div id=\"df-7b9864e3-593f-4999-ad86-c1603b1f35c1\">\n",
              "    <div class=\"colab-df-container\">\n",
              "      <div>\n",
              "<style scoped>\n",
              "    .dataframe tbody tr th:only-of-type {\n",
              "        vertical-align: middle;\n",
              "    }\n",
              "\n",
              "    .dataframe tbody tr th {\n",
              "        vertical-align: top;\n",
              "    }\n",
              "\n",
              "    .dataframe thead th {\n",
              "        text-align: right;\n",
              "    }\n",
              "</style>\n",
              "<table border=\"1\" class=\"dataframe\">\n",
              "  <thead>\n",
              "    <tr style=\"text-align: right;\">\n",
              "      <th></th>\n",
              "      <th>id_prod</th>\n",
              "      <th>date</th>\n",
              "      <th>session_id</th>\n",
              "      <th>client_id</th>\n",
              "      <th>Year</th>\n",
              "      <th>Month</th>\n",
              "      <th>Day</th>\n",
              "      <th>DateRapide</th>\n",
              "    </tr>\n",
              "  </thead>\n",
              "  <tbody>\n",
              "    <tr>\n",
              "      <th>0</th>\n",
              "      <td>0_1518</td>\n",
              "      <td>2022-05-20 13:21:29.043970</td>\n",
              "      <td>s_211425</td>\n",
              "      <td>c_103</td>\n",
              "      <td>2022</td>\n",
              "      <td>5</td>\n",
              "      <td>20</td>\n",
              "      <td>20/5/2022</td>\n",
              "    </tr>\n",
              "    <tr>\n",
              "      <th>1</th>\n",
              "      <td>1_251</td>\n",
              "      <td>2022-02-02 07:55:19.149409</td>\n",
              "      <td>s_158752</td>\n",
              "      <td>c_8534</td>\n",
              "      <td>2022</td>\n",
              "      <td>2</td>\n",
              "      <td>2</td>\n",
              "      <td>2/2/2022</td>\n",
              "    </tr>\n",
              "    <tr>\n",
              "      <th>2</th>\n",
              "      <td>0_1277</td>\n",
              "      <td>2022-06-18 15:44:33.155329</td>\n",
              "      <td>s_225667</td>\n",
              "      <td>c_6714</td>\n",
              "      <td>2022</td>\n",
              "      <td>6</td>\n",
              "      <td>18</td>\n",
              "      <td>18/6/2022</td>\n",
              "    </tr>\n",
              "    <tr>\n",
              "      <th>3</th>\n",
              "      <td>2_209</td>\n",
              "      <td>2021-06-24 04:19:29.835891</td>\n",
              "      <td>s_52962</td>\n",
              "      <td>c_6941</td>\n",
              "      <td>2021</td>\n",
              "      <td>6</td>\n",
              "      <td>24</td>\n",
              "      <td>24/6/2021</td>\n",
              "    </tr>\n",
              "    <tr>\n",
              "      <th>4</th>\n",
              "      <td>0_1509</td>\n",
              "      <td>2023-01-11 08:22:08.194479</td>\n",
              "      <td>s_325227</td>\n",
              "      <td>c_4232</td>\n",
              "      <td>2023</td>\n",
              "      <td>1</td>\n",
              "      <td>11</td>\n",
              "      <td>11/1/2023</td>\n",
              "    </tr>\n",
              "    <tr>\n",
              "      <th>...</th>\n",
              "      <td>...</td>\n",
              "      <td>...</td>\n",
              "      <td>...</td>\n",
              "      <td>...</td>\n",
              "      <td>...</td>\n",
              "      <td>...</td>\n",
              "      <td>...</td>\n",
              "      <td>...</td>\n",
              "    </tr>\n",
              "    <tr>\n",
              "      <th>679527</th>\n",
              "      <td>0_1551</td>\n",
              "      <td>2022-01-15 13:05:06.246925</td>\n",
              "      <td>s_150195</td>\n",
              "      <td>c_8489</td>\n",
              "      <td>2022</td>\n",
              "      <td>1</td>\n",
              "      <td>15</td>\n",
              "      <td>15/1/2022</td>\n",
              "    </tr>\n",
              "    <tr>\n",
              "      <th>679528</th>\n",
              "      <td>1_639</td>\n",
              "      <td>2022-03-19 16:03:23.429229</td>\n",
              "      <td>s_181434</td>\n",
              "      <td>c_4370</td>\n",
              "      <td>2022</td>\n",
              "      <td>3</td>\n",
              "      <td>19</td>\n",
              "      <td>19/3/2022</td>\n",
              "    </tr>\n",
              "    <tr>\n",
              "      <th>679529</th>\n",
              "      <td>0_1425</td>\n",
              "      <td>2022-12-20 04:33:37.584749</td>\n",
              "      <td>s_314704</td>\n",
              "      <td>c_304</td>\n",
              "      <td>2022</td>\n",
              "      <td>12</td>\n",
              "      <td>20</td>\n",
              "      <td>20/12/2022</td>\n",
              "    </tr>\n",
              "    <tr>\n",
              "      <th>679530</th>\n",
              "      <td>0_1994</td>\n",
              "      <td>2021-07-16 20:36:35.350579</td>\n",
              "      <td>s_63204</td>\n",
              "      <td>c_2227</td>\n",
              "      <td>2021</td>\n",
              "      <td>7</td>\n",
              "      <td>16</td>\n",
              "      <td>16/7/2021</td>\n",
              "    </tr>\n",
              "    <tr>\n",
              "      <th>679531</th>\n",
              "      <td>1_523</td>\n",
              "      <td>2022-09-28 01:12:01.973763</td>\n",
              "      <td>s_274568</td>\n",
              "      <td>c_3873</td>\n",
              "      <td>2022</td>\n",
              "      <td>9</td>\n",
              "      <td>28</td>\n",
              "      <td>28/9/2022</td>\n",
              "    </tr>\n",
              "  </tbody>\n",
              "</table>\n",
              "<p>679332 rows × 8 columns</p>\n",
              "</div>\n",
              "      <button class=\"colab-df-convert\" onclick=\"convertToInteractive('df-7b9864e3-593f-4999-ad86-c1603b1f35c1')\"\n",
              "              title=\"Convert this dataframe to an interactive table.\"\n",
              "              style=\"display:none;\">\n",
              "        \n",
              "  <svg xmlns=\"http://www.w3.org/2000/svg\" height=\"24px\"viewBox=\"0 0 24 24\"\n",
              "       width=\"24px\">\n",
              "    <path d=\"M0 0h24v24H0V0z\" fill=\"none\"/>\n",
              "    <path d=\"M18.56 5.44l.94 2.06.94-2.06 2.06-.94-2.06-.94-.94-2.06-.94 2.06-2.06.94zm-11 1L8.5 8.5l.94-2.06 2.06-.94-2.06-.94L8.5 2.5l-.94 2.06-2.06.94zm10 10l.94 2.06.94-2.06 2.06-.94-2.06-.94-.94-2.06-.94 2.06-2.06.94z\"/><path d=\"M17.41 7.96l-1.37-1.37c-.4-.4-.92-.59-1.43-.59-.52 0-1.04.2-1.43.59L10.3 9.45l-7.72 7.72c-.78.78-.78 2.05 0 2.83L4 21.41c.39.39.9.59 1.41.59.51 0 1.02-.2 1.41-.59l7.78-7.78 2.81-2.81c.8-.78.8-2.07 0-2.86zM5.41 20L4 18.59l7.72-7.72 1.47 1.35L5.41 20z\"/>\n",
              "  </svg>\n",
              "      </button>\n",
              "      \n",
              "  <style>\n",
              "    .colab-df-container {\n",
              "      display:flex;\n",
              "      flex-wrap:wrap;\n",
              "      gap: 12px;\n",
              "    }\n",
              "\n",
              "    .colab-df-convert {\n",
              "      background-color: #E8F0FE;\n",
              "      border: none;\n",
              "      border-radius: 50%;\n",
              "      cursor: pointer;\n",
              "      display: none;\n",
              "      fill: #1967D2;\n",
              "      height: 32px;\n",
              "      padding: 0 0 0 0;\n",
              "      width: 32px;\n",
              "    }\n",
              "\n",
              "    .colab-df-convert:hover {\n",
              "      background-color: #E2EBFA;\n",
              "      box-shadow: 0px 1px 2px rgba(60, 64, 67, 0.3), 0px 1px 3px 1px rgba(60, 64, 67, 0.15);\n",
              "      fill: #174EA6;\n",
              "    }\n",
              "\n",
              "    [theme=dark] .colab-df-convert {\n",
              "      background-color: #3B4455;\n",
              "      fill: #D2E3FC;\n",
              "    }\n",
              "\n",
              "    [theme=dark] .colab-df-convert:hover {\n",
              "      background-color: #434B5C;\n",
              "      box-shadow: 0px 1px 3px 1px rgba(0, 0, 0, 0.15);\n",
              "      filter: drop-shadow(0px 1px 2px rgba(0, 0, 0, 0.3));\n",
              "      fill: #FFFFFF;\n",
              "    }\n",
              "  </style>\n",
              "\n",
              "      <script>\n",
              "        const buttonEl =\n",
              "          document.querySelector('#df-7b9864e3-593f-4999-ad86-c1603b1f35c1 button.colab-df-convert');\n",
              "        buttonEl.style.display =\n",
              "          google.colab.kernel.accessAllowed ? 'block' : 'none';\n",
              "\n",
              "        async function convertToInteractive(key) {\n",
              "          const element = document.querySelector('#df-7b9864e3-593f-4999-ad86-c1603b1f35c1');\n",
              "          const dataTable =\n",
              "            await google.colab.kernel.invokeFunction('convertToInteractive',\n",
              "                                                     [key], {});\n",
              "          if (!dataTable) return;\n",
              "\n",
              "          const docLinkHtml = 'Like what you see? Visit the ' +\n",
              "            '<a target=\"_blank\" href=https://colab.research.google.com/notebooks/data_table.ipynb>data table notebook</a>'\n",
              "            + ' to learn more about interactive tables.';\n",
              "          element.innerHTML = '';\n",
              "          dataTable['output_type'] = 'display_data';\n",
              "          await google.colab.output.renderOutput(dataTable, element);\n",
              "          const docLink = document.createElement('div');\n",
              "          docLink.innerHTML = docLinkHtml;\n",
              "          element.appendChild(docLink);\n",
              "        }\n",
              "      </script>\n",
              "    </div>\n",
              "  </div>\n",
              "  "
            ]
          },
          "metadata": {},
          "execution_count": 110
        }
      ]
    },
    {
      "cell_type": "code",
      "source": [
        "# df[\"DateTEST\"]= df['date'].dt.strftime(\"%d/%m/%y\") \n",
        "# df[\"DateTEST\"]=pd.to_datetime(df[\"DateTEST\"],dayfirst=True)\n",
        "df[\"DateRapideDateTime\"]=pd.to_datetime(df.date.dt.day.astype(str) + \"/\" + df.date.dt.month.astype(str)+ \"/\" + df.date.dt.year.astype(str),dayfirst=True) #OK format datetime mais xecutoion trop longue\n",
        "SearchKey(df)\n",
        "df                             "
      ],
      "metadata": {
        "colab": {
          "base_uri": "https://localhost:8080/"
        },
        "id": "Ci78ShAMf3uC",
        "outputId": "92cd8148-1810-4bd7-b8bf-56adb0aec1c8"
      },
      "execution_count": null,
      "outputs": [
        {
          "output_type": "stream",
          "name": "stdout",
          "text": [
            "\n",
            "______________________________________________________________________________________\n",
            " Recherche  valeurs uniques :  \u001b[93m_\u001b[0m   ( 679332 Lignes, 9 Colonnes) \n",
            "______________________________________________________________________________________\n",
            "\u001b[92mid_prod :\u001b[0m 679332 rows |Nb unique: 3266 |Nb doublons: 676066 - 100.0 % | object \n",
            "______________________________________________________________________________________\n",
            "\u001b[92mdate :\u001b[0m 679332 rows |Nb unique: 679332 |Nb doublons: 0 - 0.0 % \u001b[92mClé candidate\u001b[0m | datetime64[ns] \n",
            "____________________________________________________________________________________\n",
            "\u001b[92msession_id :\u001b[0m 679332 rows |Nb unique: 342315 |Nb doublons: 337017 - 50.0 % | object \n",
            "______________________________________________________________________________________\n",
            "\u001b[92mclient_id :\u001b[0m 679332 rows |Nb unique: 8600 |Nb doublons: 670732 - 99.0 % | object \n",
            "______________________________________________________________________________________\n",
            "\u001b[92mYear :\u001b[0m 679332 rows |Nb unique: 3 |Nb doublons: 679329 - 100.0 % | object \n",
            "______________________________________________________________________________________\n",
            "\u001b[92mMonth :\u001b[0m 679332 rows |Nb unique: 12 |Nb doublons: 679320 - 100.0 % | object \n",
            "______________________________________________________________________________________\n",
            "\u001b[92mDay :\u001b[0m 679332 rows |Nb unique: 31 |Nb doublons: 679301 - 100.0 % | object \n",
            "______________________________________________________________________________________\n",
            "\u001b[92mDateRapide :\u001b[0m 679332 rows |Nb unique: 730 |Nb doublons: 678602 - 100.0 % | object \n",
            "______________________________________________________________________________________\n",
            "\u001b[92mDateRapideDateTime :\u001b[0m 679332 rows |Nb unique: 730 |Nb doublons: 678602 - 100.0 % | datetime64[ns] \n",
            "______________________________________________________________________________________\n"
          ]
        },
        {
          "output_type": "execute_result",
          "data": {
            "text/plain": [
              "       id_prod                       date session_id client_id  Year Month  \\\n",
              "0       0_1518 2022-05-20 13:21:29.043970   s_211425     c_103  2022     5   \n",
              "1        1_251 2022-02-02 07:55:19.149409   s_158752    c_8534  2022     2   \n",
              "2       0_1277 2022-06-18 15:44:33.155329   s_225667    c_6714  2022     6   \n",
              "3        2_209 2021-06-24 04:19:29.835891    s_52962    c_6941  2021     6   \n",
              "4       0_1509 2023-01-11 08:22:08.194479   s_325227    c_4232  2023     1   \n",
              "...        ...                        ...        ...       ...   ...   ...   \n",
              "679527  0_1551 2022-01-15 13:05:06.246925   s_150195    c_8489  2022     1   \n",
              "679528   1_639 2022-03-19 16:03:23.429229   s_181434    c_4370  2022     3   \n",
              "679529  0_1425 2022-12-20 04:33:37.584749   s_314704     c_304  2022    12   \n",
              "679530  0_1994 2021-07-16 20:36:35.350579    s_63204    c_2227  2021     7   \n",
              "679531   1_523 2022-09-28 01:12:01.973763   s_274568    c_3873  2022     9   \n",
              "\n",
              "       Day  DateRapide DateRapideDateTime  \n",
              "0       20   20/5/2022         2022-05-20  \n",
              "1        2    2/2/2022         2022-02-02  \n",
              "2       18   18/6/2022         2022-06-18  \n",
              "3       24   24/6/2021         2021-06-24  \n",
              "4       11   11/1/2023         2023-01-11  \n",
              "...     ..         ...                ...  \n",
              "679527  15   15/1/2022         2022-01-15  \n",
              "679528  19   19/3/2022         2022-03-19  \n",
              "679529  20  20/12/2022         2022-12-20  \n",
              "679530  16   16/7/2021         2021-07-16  \n",
              "679531  28   28/9/2022         2022-09-28  \n",
              "\n",
              "[679332 rows x 9 columns]"
            ],
            "text/html": [
              "\n",
              "  <div id=\"df-24ebc243-b9b9-4e04-8af8-aff4ac2cfdb1\">\n",
              "    <div class=\"colab-df-container\">\n",
              "      <div>\n",
              "<style scoped>\n",
              "    .dataframe tbody tr th:only-of-type {\n",
              "        vertical-align: middle;\n",
              "    }\n",
              "\n",
              "    .dataframe tbody tr th {\n",
              "        vertical-align: top;\n",
              "    }\n",
              "\n",
              "    .dataframe thead th {\n",
              "        text-align: right;\n",
              "    }\n",
              "</style>\n",
              "<table border=\"1\" class=\"dataframe\">\n",
              "  <thead>\n",
              "    <tr style=\"text-align: right;\">\n",
              "      <th></th>\n",
              "      <th>id_prod</th>\n",
              "      <th>date</th>\n",
              "      <th>session_id</th>\n",
              "      <th>client_id</th>\n",
              "      <th>Year</th>\n",
              "      <th>Month</th>\n",
              "      <th>Day</th>\n",
              "      <th>DateRapide</th>\n",
              "      <th>DateRapideDateTime</th>\n",
              "    </tr>\n",
              "  </thead>\n",
              "  <tbody>\n",
              "    <tr>\n",
              "      <th>0</th>\n",
              "      <td>0_1518</td>\n",
              "      <td>2022-05-20 13:21:29.043970</td>\n",
              "      <td>s_211425</td>\n",
              "      <td>c_103</td>\n",
              "      <td>2022</td>\n",
              "      <td>5</td>\n",
              "      <td>20</td>\n",
              "      <td>20/5/2022</td>\n",
              "      <td>2022-05-20</td>\n",
              "    </tr>\n",
              "    <tr>\n",
              "      <th>1</th>\n",
              "      <td>1_251</td>\n",
              "      <td>2022-02-02 07:55:19.149409</td>\n",
              "      <td>s_158752</td>\n",
              "      <td>c_8534</td>\n",
              "      <td>2022</td>\n",
              "      <td>2</td>\n",
              "      <td>2</td>\n",
              "      <td>2/2/2022</td>\n",
              "      <td>2022-02-02</td>\n",
              "    </tr>\n",
              "    <tr>\n",
              "      <th>2</th>\n",
              "      <td>0_1277</td>\n",
              "      <td>2022-06-18 15:44:33.155329</td>\n",
              "      <td>s_225667</td>\n",
              "      <td>c_6714</td>\n",
              "      <td>2022</td>\n",
              "      <td>6</td>\n",
              "      <td>18</td>\n",
              "      <td>18/6/2022</td>\n",
              "      <td>2022-06-18</td>\n",
              "    </tr>\n",
              "    <tr>\n",
              "      <th>3</th>\n",
              "      <td>2_209</td>\n",
              "      <td>2021-06-24 04:19:29.835891</td>\n",
              "      <td>s_52962</td>\n",
              "      <td>c_6941</td>\n",
              "      <td>2021</td>\n",
              "      <td>6</td>\n",
              "      <td>24</td>\n",
              "      <td>24/6/2021</td>\n",
              "      <td>2021-06-24</td>\n",
              "    </tr>\n",
              "    <tr>\n",
              "      <th>4</th>\n",
              "      <td>0_1509</td>\n",
              "      <td>2023-01-11 08:22:08.194479</td>\n",
              "      <td>s_325227</td>\n",
              "      <td>c_4232</td>\n",
              "      <td>2023</td>\n",
              "      <td>1</td>\n",
              "      <td>11</td>\n",
              "      <td>11/1/2023</td>\n",
              "      <td>2023-01-11</td>\n",
              "    </tr>\n",
              "    <tr>\n",
              "      <th>...</th>\n",
              "      <td>...</td>\n",
              "      <td>...</td>\n",
              "      <td>...</td>\n",
              "      <td>...</td>\n",
              "      <td>...</td>\n",
              "      <td>...</td>\n",
              "      <td>...</td>\n",
              "      <td>...</td>\n",
              "      <td>...</td>\n",
              "    </tr>\n",
              "    <tr>\n",
              "      <th>679527</th>\n",
              "      <td>0_1551</td>\n",
              "      <td>2022-01-15 13:05:06.246925</td>\n",
              "      <td>s_150195</td>\n",
              "      <td>c_8489</td>\n",
              "      <td>2022</td>\n",
              "      <td>1</td>\n",
              "      <td>15</td>\n",
              "      <td>15/1/2022</td>\n",
              "      <td>2022-01-15</td>\n",
              "    </tr>\n",
              "    <tr>\n",
              "      <th>679528</th>\n",
              "      <td>1_639</td>\n",
              "      <td>2022-03-19 16:03:23.429229</td>\n",
              "      <td>s_181434</td>\n",
              "      <td>c_4370</td>\n",
              "      <td>2022</td>\n",
              "      <td>3</td>\n",
              "      <td>19</td>\n",
              "      <td>19/3/2022</td>\n",
              "      <td>2022-03-19</td>\n",
              "    </tr>\n",
              "    <tr>\n",
              "      <th>679529</th>\n",
              "      <td>0_1425</td>\n",
              "      <td>2022-12-20 04:33:37.584749</td>\n",
              "      <td>s_314704</td>\n",
              "      <td>c_304</td>\n",
              "      <td>2022</td>\n",
              "      <td>12</td>\n",
              "      <td>20</td>\n",
              "      <td>20/12/2022</td>\n",
              "      <td>2022-12-20</td>\n",
              "    </tr>\n",
              "    <tr>\n",
              "      <th>679530</th>\n",
              "      <td>0_1994</td>\n",
              "      <td>2021-07-16 20:36:35.350579</td>\n",
              "      <td>s_63204</td>\n",
              "      <td>c_2227</td>\n",
              "      <td>2021</td>\n",
              "      <td>7</td>\n",
              "      <td>16</td>\n",
              "      <td>16/7/2021</td>\n",
              "      <td>2021-07-16</td>\n",
              "    </tr>\n",
              "    <tr>\n",
              "      <th>679531</th>\n",
              "      <td>1_523</td>\n",
              "      <td>2022-09-28 01:12:01.973763</td>\n",
              "      <td>s_274568</td>\n",
              "      <td>c_3873</td>\n",
              "      <td>2022</td>\n",
              "      <td>9</td>\n",
              "      <td>28</td>\n",
              "      <td>28/9/2022</td>\n",
              "      <td>2022-09-28</td>\n",
              "    </tr>\n",
              "  </tbody>\n",
              "</table>\n",
              "<p>679332 rows × 9 columns</p>\n",
              "</div>\n",
              "      <button class=\"colab-df-convert\" onclick=\"convertToInteractive('df-24ebc243-b9b9-4e04-8af8-aff4ac2cfdb1')\"\n",
              "              title=\"Convert this dataframe to an interactive table.\"\n",
              "              style=\"display:none;\">\n",
              "        \n",
              "  <svg xmlns=\"http://www.w3.org/2000/svg\" height=\"24px\"viewBox=\"0 0 24 24\"\n",
              "       width=\"24px\">\n",
              "    <path d=\"M0 0h24v24H0V0z\" fill=\"none\"/>\n",
              "    <path d=\"M18.56 5.44l.94 2.06.94-2.06 2.06-.94-2.06-.94-.94-2.06-.94 2.06-2.06.94zm-11 1L8.5 8.5l.94-2.06 2.06-.94-2.06-.94L8.5 2.5l-.94 2.06-2.06.94zm10 10l.94 2.06.94-2.06 2.06-.94-2.06-.94-.94-2.06-.94 2.06-2.06.94z\"/><path d=\"M17.41 7.96l-1.37-1.37c-.4-.4-.92-.59-1.43-.59-.52 0-1.04.2-1.43.59L10.3 9.45l-7.72 7.72c-.78.78-.78 2.05 0 2.83L4 21.41c.39.39.9.59 1.41.59.51 0 1.02-.2 1.41-.59l7.78-7.78 2.81-2.81c.8-.78.8-2.07 0-2.86zM5.41 20L4 18.59l7.72-7.72 1.47 1.35L5.41 20z\"/>\n",
              "  </svg>\n",
              "      </button>\n",
              "      \n",
              "  <style>\n",
              "    .colab-df-container {\n",
              "      display:flex;\n",
              "      flex-wrap:wrap;\n",
              "      gap: 12px;\n",
              "    }\n",
              "\n",
              "    .colab-df-convert {\n",
              "      background-color: #E8F0FE;\n",
              "      border: none;\n",
              "      border-radius: 50%;\n",
              "      cursor: pointer;\n",
              "      display: none;\n",
              "      fill: #1967D2;\n",
              "      height: 32px;\n",
              "      padding: 0 0 0 0;\n",
              "      width: 32px;\n",
              "    }\n",
              "\n",
              "    .colab-df-convert:hover {\n",
              "      background-color: #E2EBFA;\n",
              "      box-shadow: 0px 1px 2px rgba(60, 64, 67, 0.3), 0px 1px 3px 1px rgba(60, 64, 67, 0.15);\n",
              "      fill: #174EA6;\n",
              "    }\n",
              "\n",
              "    [theme=dark] .colab-df-convert {\n",
              "      background-color: #3B4455;\n",
              "      fill: #D2E3FC;\n",
              "    }\n",
              "\n",
              "    [theme=dark] .colab-df-convert:hover {\n",
              "      background-color: #434B5C;\n",
              "      box-shadow: 0px 1px 3px 1px rgba(0, 0, 0, 0.15);\n",
              "      filter: drop-shadow(0px 1px 2px rgba(0, 0, 0, 0.3));\n",
              "      fill: #FFFFFF;\n",
              "    }\n",
              "  </style>\n",
              "\n",
              "      <script>\n",
              "        const buttonEl =\n",
              "          document.querySelector('#df-24ebc243-b9b9-4e04-8af8-aff4ac2cfdb1 button.colab-df-convert');\n",
              "        buttonEl.style.display =\n",
              "          google.colab.kernel.accessAllowed ? 'block' : 'none';\n",
              "\n",
              "        async function convertToInteractive(key) {\n",
              "          const element = document.querySelector('#df-24ebc243-b9b9-4e04-8af8-aff4ac2cfdb1');\n",
              "          const dataTable =\n",
              "            await google.colab.kernel.invokeFunction('convertToInteractive',\n",
              "                                                     [key], {});\n",
              "          if (!dataTable) return;\n",
              "\n",
              "          const docLinkHtml = 'Like what you see? Visit the ' +\n",
              "            '<a target=\"_blank\" href=https://colab.research.google.com/notebooks/data_table.ipynb>data table notebook</a>'\n",
              "            + ' to learn more about interactive tables.';\n",
              "          element.innerHTML = '';\n",
              "          dataTable['output_type'] = 'display_data';\n",
              "          await google.colab.output.renderOutput(dataTable, element);\n",
              "          const docLink = document.createElement('div');\n",
              "          docLink.innerHTML = docLinkHtml;\n",
              "          element.appendChild(docLink);\n",
              "        }\n",
              "      </script>\n",
              "    </div>\n",
              "  </div>\n",
              "  "
            ]
          },
          "metadata": {},
          "execution_count": 111
        }
      ]
    },
    {
      "cell_type": "markdown",
      "source": [
        "## Merge des dataframes"
      ],
      "metadata": {
        "id": "Eb9BiFMMlxil"
      }
    },
    {
      "cell_type": "code",
      "source": [
        "print(pcolors.WARNING + 'Liste des colonnes:'+pcolors.RESET,\n",
        "      '\\n--------------------------------`\\n',\n",
        "      pcolors.OK+ \"transactions:\" +pcolors.RESET,transactions.columns,pcolors.OK+\"\", transactions.shape,\"\" +pcolors.RESET,\n",
        "      '\\n--------------------------------`\\n',\n",
        "      pcolors.OK+ \"products:\" +pcolors.RESET,products.columns,pcolors.OK+\"\", products.shape,\"\" +pcolors.RESET,\n",
        "      '\\n--------------------------------`\\n',\n",
        "      pcolors.OK+ 'customers:' +pcolors.RESET,customers.columns,pcolors.OK+\"\", customers.shape,\"\" +pcolors.RESET,)"
      ],
      "metadata": {
        "colab": {
          "base_uri": "https://localhost:8080/"
        },
        "id": "_h1XsYHSs0m_",
        "outputId": "50816bf6-028a-446b-c7cd-aae6dc63d53c"
      },
      "execution_count": null,
      "outputs": [
        {
          "output_type": "stream",
          "name": "stdout",
          "text": [
            "\u001b[93mListe des colonnes:\u001b[0m \n",
            "--------------------------------`\n",
            " \u001b[92mtransactions:\u001b[0m Index(['id_prod', 'date', 'session_id', 'client_id', 'Year', 'Month', 'Day',\n",
            "       'DateRapide', 'DateTEST', 'DateRapideDateTime'],\n",
            "      dtype='object') \u001b[92m (679332, 10) \u001b[0m \n",
            "--------------------------------`\n",
            " \u001b[92mproducts:\u001b[0m Index(['id_prod', 'price', 'categ'], dtype='object') \u001b[92m (3287, 3) \u001b[0m \n",
            "--------------------------------`\n",
            " \u001b[92mcustomers:\u001b[0m Index(['client_id', 'sex', 'birth'], dtype='object') \u001b[92m (8623, 3) \u001b[0m\n"
          ]
        }
      ]
    },
    {
      "cell_type": "code",
      "source": [
        "df=transactions  #679332 rows × 4 columns\n",
        "df=df.merge(customers, how=\"outer\", on=\"client_id\", indicator=True)  #825 rows × 7 columns\n",
        "df._merge.unique() # ['both', 'right_only']\n",
        "\n",
        "df[df._merge=='right_only'].shape  # (23, 7)\n",
        "df[df._merge=='right_only']  # All NaN \n",
        "\n",
        "\n",
        "df=df[df._merge=='both'] #679332 rows × 7 columns \n",
        "df.isnull().any() # OK All false No NaN in this  df\n",
        "df.drop(['_merge'], axis=1, inplace=True) # Suprimmer Indicator   # 679332 rows × 6 columns\n",
        "\n",
        "# df.merge(products, how=\"outer\", on=\"client_id\", indicator=True)\n"
      ],
      "metadata": {
        "id": "F0Bh2qw1o1xx"
      },
      "execution_count": null,
      "outputs": []
    },
    {
      "cell_type": "markdown",
      "source": [
        "# Questions"
      ],
      "metadata": {
        "id": "npv5Cf3dhmRN"
      }
    },
    {
      "cell_type": "markdown",
      "source": [
        "* Une analyse des différents indicateurs de vente,  demandée par Antoine chargé de produit marketing.\n",
        "* Une analyse plus ciblée sur les clients : l’objectif serait cette fois-ci de comprendre le comportement de nos clients en ligne, pour pouvoir ensuite comparer avec la connaissance acquise via nos librairies physiques. Pour cela, je t’invite à voir avec Julie, qui te précisera directement ses demandes à ce niveau.\n",
        "  * Dans un premier temps, je vais avoir besoin de différents indicateurs et graphiques autour du\n",
        "chiffre d'affaires. \n",
        "  * Peux-tu également regarder l’évolution dans le temps et mettre en place une\n",
        "décomposition en moyenne mobile pour évaluer la tendance globale ?\n",
        "  * Il serait également intéressant de faire un zoom sur les références, pour voir un peu les tops et les flops, la répartition par catégorie, etc.\n",
        "  * Enfin, j’aimerais avoir quelques informations sur les profils de nos clients, et également la\n",
        "répartition du chiffre d'affaires entre eux, via par exemple une courbe de Lorenz.\n",
        "  * Après, toutes les informations et tous graphiques qui apporteraient de l’information pertinente\n",
        "sont les bienvenus !\n",
        "\n",
        "\n",
        "\n",
        "* Julie corrélations, pour voir s’il n’y a pas certains points que nous pourrions analyser. \n",
        "  * le lien entre le genre d’un client et les catégories des livres achetés \n",
        "  * et ensuite le lien entre l’âge des clients et le montant total des achats, la fréquence d’achat, la taille du panier moyen et les catégories des livres achetés."
      ],
      "metadata": {
        "id": "Uu51YGvvhqeO"
      }
    }
  ]
}